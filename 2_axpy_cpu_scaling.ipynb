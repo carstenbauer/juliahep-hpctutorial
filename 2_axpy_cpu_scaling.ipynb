{
 "cells": [
  {
   "cell_type": "markdown",
   "id": "ea3a14e0-24ac-44a8-b02f-335eec8f25aa",
   "metadata": {},
   "source": [
    "# AXPY Scaling\n",
    "\n",
    "**(memory bandwidth vs number of threads)**"
   ]
  },
  {
   "cell_type": "markdown",
   "id": "0b5070ff-7158-4f5d-b9bb-e6e1f0afa6e1",
   "metadata": {},
   "source": [
    "Unfortunately, we can't change the number of Julia threads dynamically (e.g. in a Jupyter session).\n",
    "\n",
    "**Poor-man's workaround:**\n",
    "* Start Julia with 128 threads (= # CPU-cores) and \n",
    "* dynamically choose how many of them to use in `measure_perf`.\n",
    "\n",
    "<div style=\"color: #AA0000\"><b>Make sure to use the Julia kernel with 128 threads for this notebook !!!</b></div>"
   ]
  },
  {
   "cell_type": "markdown",
   "id": "44d2a114-37db-40a4-ae8a-92eeee9b8c12",
   "metadata": {},
   "source": [
    "How to run a computation on `n <= nthreads()` Julia threads?\n",
    "\n",
    "**Idea:** Use `@threads :static for i in 1:n` to create `n` tasks that get statically scheduled to the first `n` Julia threads."
   ]
  },
  {
   "cell_type": "code",
   "execution_count": null,
   "id": "06ed8b5b-d395-4f1e-8ffc-f15c0d132765",
   "metadata": {
    "tags": []
   },
   "outputs": [],
   "source": [
    "using Base.Threads: @threads, nthreads, threadid\n",
    "\n",
    "function example(; numthreads=nthreads())\n",
    "    @threads :static for tid in 1:numthreads\n",
    "        println(\"Doing work on thread $tid ($(threadid()))\")\n",
    "    end\n",
    "end"
   ]
  },
  {
   "cell_type": "code",
   "execution_count": null,
   "id": "9df45269-ae7d-4b4b-8ba0-cfddf3229b0c",
   "metadata": {
    "tags": []
   },
   "outputs": [],
   "source": [
    "example(; numthreads=2)"
   ]
  },
  {
   "cell_type": "code",
   "execution_count": null,
   "id": "94b69119-4b44-4601-9298-e5bae2ffc514",
   "metadata": {
    "tags": []
   },
   "outputs": [],
   "source": [
    "example(; numthreads=5)"
   ]
  },
  {
   "cell_type": "markdown",
   "id": "ef19d08c-8ea2-4327-a01e-14492138111f",
   "metadata": {},
   "source": [
    "What if I want to work on data (of dynamic size)? → [ChunkSplitters.jl](https://github.com/m3g/ChunkSplitters.jl) or `Iterators.partition`"
   ]
  },
  {
   "cell_type": "code",
   "execution_count": null,
   "id": "2b52645b-ee58-4b53-aa00-8be71e120c93",
   "metadata": {
    "tags": []
   },
   "outputs": [],
   "source": [
    "using ChunkSplitters"
   ]
  },
  {
   "cell_type": "code",
   "execution_count": null,
   "id": "9231def4-60d9-49aa-a0d9-ee09048fb70c",
   "metadata": {
    "tags": []
   },
   "outputs": [],
   "source": [
    "chunks(1:12, 2) |> collect"
   ]
  },
  {
   "cell_type": "code",
   "execution_count": null,
   "id": "a61c9399-d53c-48d1-983c-68cd4856bfba",
   "metadata": {
    "tags": []
   },
   "outputs": [],
   "source": [
    "chunks(1:12, 3) |> collect"
   ]
  },
  {
   "cell_type": "code",
   "execution_count": null,
   "id": "356282f9-881b-48e9-84f8-387ae99e6f41",
   "metadata": {
    "tags": []
   },
   "outputs": [],
   "source": [
    "using Base.Threads: @threads, nthreads\n",
    "\n",
    "function example(data; numthreads=nthreads())\n",
    "    @threads :static for (idcs, tid) in chunks(data, numthreads)\n",
    "        println(\"Doing work on thread $tid\")\n",
    "        for i in idcs\n",
    "            # do work...\n",
    "        end\n",
    "    end\n",
    "end"
   ]
  },
  {
   "cell_type": "code",
   "execution_count": null,
   "id": "1f8afcff-861c-4140-b073-c9f674186e45",
   "metadata": {
    "tags": []
   },
   "outputs": [],
   "source": [
    "example(rand(100); numthreads=2)"
   ]
  },
  {
   "cell_type": "code",
   "execution_count": null,
   "id": "6cab81c3-4f88-4edd-9336-ff8e43e26453",
   "metadata": {
    "tags": []
   },
   "outputs": [],
   "source": [
    "example(rand(100); numthreads=10)"
   ]
  },
  {
   "cell_type": "markdown",
   "id": "db9cc5a8-b3ba-4e9f-92f3-d7f853475476",
   "metadata": {},
   "source": [
    "### AXPY with `numthreads` option"
   ]
  },
  {
   "cell_type": "markdown",
   "id": "ac7c005f-7f48-41fa-8adb-95349efc74a1",
   "metadata": {},
   "source": [
    "Let's rewrite our axpy examples in terms of chunks (one per task/thread), so that we can add a `numthreads` option to `measure_perf` similar to the `example` function above."
   ]
  },
  {
   "cell_type": "code",
   "execution_count": null,
   "id": "4d0f8a29-ca57-4f48-a1b8-1ddf122eb779",
   "metadata": {
    "tags": []
   },
   "outputs": [],
   "source": [
    "using BenchmarkTools\n",
    "using Random\n",
    "\n",
    "function axpy_static_chunks!(y, a, x; chunks)\n",
    "    @threads :static for (idcs, tid) in chunks   # iterating over chunks (i.e. tasks/threads)\n",
    "        @simd for i in idcs                      # each thread processes the assigned range of idices\n",
    "            @inbounds y[i] = a * x[i] + y[i]\n",
    "        end\n",
    "    end\n",
    "    return nothing\n",
    "end\n",
    "\n",
    "function generate_input_data_chunks(; N, dtype, parallel=false, static=false, chunks, kwargs...)\n",
    "    a = dtype(3.141)\n",
    "    x = Vector{dtype}(undef, N)\n",
    "    y = Vector{dtype}(undef, N)\n",
    "    if !parallel\n",
    "        rand!(x)\n",
    "        rand!(y)\n",
    "    else\n",
    "        if !static\n",
    "            @threads for (idcs, tid) in chunks             # new: same as above\n",
    "                @inbounds for i in idcs\n",
    "                    x[i] = rand()\n",
    "                    y[i] = rand()\n",
    "                end\n",
    "            end\n",
    "        else\n",
    "            @threads :static for (idcs, tid) in chunks     # new: same as above\n",
    "                @inbounds for i in idcs\n",
    "                    x[i] = rand()\n",
    "                    y[i] = rand()\n",
    "                end\n",
    "            end\n",
    "        end\n",
    "    end\n",
    "    return a,x,y\n",
    "end\n",
    "\n",
    "function measure_perf_chunks(; N=2^27, dtype=Float64, verbose=true, numthreads=Threads.nthreads(), kwargs...)\n",
    "    # input data\n",
    "    cs = chunks(1:N, numthreads) # new: chunking\n",
    "    a, x, y = generate_input_data_chunks(; N, dtype, chunks=cs, kwargs...)\n",
    "\n",
    "    # time measurement\n",
    "    t = @belapsed axpy_static_chunks!($y, $a, $x; chunks=$cs) evals = 2 samples = 10\n",
    "\n",
    "    # compute memory bandwidth and flops\n",
    "    bytes = 3 * sizeof(dtype) * N\n",
    "    flops = 2 * N\n",
    "    mem_rate = bytes * 1e-9 / t\n",
    "    flop_rate = flops * 1e-9 / t\n",
    "\n",
    "    if verbose\n",
    "        println(\"Dtype: $dtype\")\n",
    "        println(\"\\tMemory Bandwidth (GB/s): \", round(mem_rate; digits=2))\n",
    "        println(\"\\tCompute (GFLOP/s): \", round(flop_rate; digits=2))\n",
    "    end\n",
    "    return mem_rate, flop_rate\n",
    "end"
   ]
  },
  {
   "cell_type": "code",
   "execution_count": null,
   "id": "db6dd3d9-9d0a-4c5c-8c05-409ea70472f3",
   "metadata": {
    "tags": []
   },
   "outputs": [],
   "source": [
    "using ThreadPinning\n",
    "pinthreads(:numa)\n",
    "\n",
    "measure_perf_chunks(; numthreads=1, parallel=true, static=true);\n",
    "measure_perf_chunks(; numthreads=8, parallel=true, static=true);"
   ]
  },
  {
   "cell_type": "markdown",
   "id": "8f762701-c35a-487c-9212-7caf7ff81e7b",
   "metadata": {},
   "source": [
    "We are now in the position to run a small scaling analysis."
   ]
  },
  {
   "cell_type": "markdown",
   "id": "c376aa1c-6bce-48c7-b695-b3aa8fec0814",
   "metadata": {},
   "source": [
    "### Scaling analysis: tabular"
   ]
  },
  {
   "cell_type": "code",
   "execution_count": null,
   "id": "c422adee-efa6-461f-9f42-8bc56891e16e",
   "metadata": {
    "tags": []
   },
   "outputs": [],
   "source": [
    "using PrettyTables\n",
    "\n",
    "function axpy_scaling_table(; numthreads=1:nthreads(), kwargs...)\n",
    "    for nt in numthreads\n",
    "        membw_results = Matrix{Float64}(undef, 3, 2)\n",
    "        for (i, pin) in enumerate((:cores, :sockets, :numa))\n",
    "            for (j, parallel) in enumerate((false, true))\n",
    "                pinthreads(pin)\n",
    "                membw, flops = measure_perf_chunks(; numthreads=nt, parallel=parallel, static=true, verbose=false, kwargs...)\n",
    "                membw_results[i, j] = round(membw; digits=2)\n",
    "            end\n",
    "        end\n",
    "        \n",
    "        # (pretty) printing\n",
    "        println()\n",
    "        pretty_table(membw_results;\n",
    "            header=[\":serial\", \":parallel\"],\n",
    "            row_names=[\":cores\", \":sockets\", \":numa\"],\n",
    "            row_name_column_title=\"# Threads = $nt\",\n",
    "            title=\"Memory Bandwidth (GB/s)\")\n",
    "    end\n",
    "end"
   ]
  },
  {
   "cell_type": "code",
   "execution_count": null,
   "id": "1f9f24c0-8a8b-4666-9098-b268c0138d0c",
   "metadata": {
    "tags": []
   },
   "outputs": [],
   "source": [
    " # should take around 3 min\n",
    "@time axpy_scaling_table(; numthreads=[1, 8, 64, 128], N=2^30)"
   ]
  },
  {
   "cell_type": "markdown",
   "id": "bf762c97-0469-483e-9f90-b5a01614d4b6",
   "metadata": {
    "tags": []
   },
   "source": [
    "### Scaling analysis: plot"
   ]
  },
  {
   "cell_type": "code",
   "execution_count": null,
   "id": "7490de8a-426f-4ee7-bfe6-fec38e0e2572",
   "metadata": {
    "tags": []
   },
   "outputs": [],
   "source": [
    "using Plots\n",
    "\n",
    "function axpy_scaling_plot(; numthreads=1:nthreads(), kwargs...)\n",
    "    membws = Dict{Symbol, Vector{Float64}}()\n",
    "    membws[:cores] = zeros(length(numthreads))\n",
    "    membws[:sockets] = zeros(length(numthreads))\n",
    "    membws[:numa] = zeros(length(numthreads))\n",
    "    \n",
    "    for (t, nt) in enumerate(numthreads)\n",
    "        for (p, pin) in enumerate((:cores, :sockets, :numa))\n",
    "            pinthreads(pin)\n",
    "            membw, flops = measure_perf_chunks(; numthreads=nt, parallel=true, static=true, verbose=false, kwargs...)\n",
    "            membws[pin][t] = round(membw; digits=2)\n",
    "        end\n",
    "    end\n",
    "    \n",
    "    props = (marker=:circle, ms=5, lw=1.5)\n",
    "    p = plot(numthreads, membws[:numa]; label=\":numa\", props...,\n",
    "        frame=:box,\n",
    "        xlabel=\"number of threads\",\n",
    "        ylabel=\"memory bandwidth [GB/s]\",\n",
    "        size=(700,450),\n",
    "        xlim=(0,129),\n",
    "        xticks=[1,32,64,128],\n",
    "        tickfontsize=12,\n",
    "        guidefontsize=13,\n",
    "        legendfontsize=12,\n",
    "        linewidth=1.5)\n",
    "    plot!(p, numthreads, membws[:sockets]; props..., label=\":sockets\")\n",
    "    plot!(p, numthreads, membws[:cores]; props..., label=\":cores\")\n",
    "\n",
    "    if maximum(numthreads) > 64\n",
    "        vline!(p, [64]; ls=:dash, color=:grey, lw=1.5, label=nothing)\n",
    "    end\n",
    "    \n",
    "    return p\n",
    "end"
   ]
  },
  {
   "cell_type": "code",
   "execution_count": null,
   "id": "3959a955-79bb-4320-81a8-25d0b9d7ebe5",
   "metadata": {
    "tags": []
   },
   "outputs": [],
   "source": [
    "# should take ≈ 5 min\n",
    "@time axpy_scaling_plot(; numthreads=[1; 8:8:128], N=2^30)"
   ]
  }
 ],
 "metadata": {
  "kernelspec": {
   "display_name": "Julia (128 threads) 1.9.3",
   "language": "julia",
   "name": "julia-_128-threads_-1.9"
  },
  "language_info": {
   "file_extension": ".jl",
   "mimetype": "application/julia",
   "name": "julia",
   "version": "1.9.3"
  }
 },
 "nbformat": 4,
 "nbformat_minor": 5
}
