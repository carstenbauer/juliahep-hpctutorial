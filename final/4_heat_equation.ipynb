{
 "cells": [
  {
   "cell_type": "markdown",
   "id": "4ad69a39-e157-45c4-8413-c1ccb2094807",
   "metadata": {
    "tags": []
   },
   "source": [
    "# \"Real-world\" example: Heat diffusion"
   ]
  },
  {
   "cell_type": "markdown",
   "id": "d33da693-6677-4591-bc8e-6d4cd92ecc20",
   "metadata": {},
   "source": [
    "**Note: This should be run with multiple Julia threads** (I recommend 8 on Noctua 2)"
   ]
  },
  {
   "cell_type": "markdown",
   "id": "88fd8955-64ea-41be-a02b-425c418a2052",
   "metadata": {},
   "source": [
    "## The heat equation\n",
    "We consider the heat equation, a partial differential equation (PDE) describing the diffusion of heat over time. The PDE reads\n",
    "\n",
    "$$ \\dfrac{\\partial T}{\\partial t} = \\alpha \\left( \\dfrac{\\partial^2 T}{\\partial x^2} + \\dfrac{\\partial^2 T}{\\partial y^2} \\right), $$\n",
    "\n",
    "where the temperature $T = T(x,y,t)$ is a function of space ($x,y$) and time ($t$) and $\\alpha$ is a scaling coefficient. Specifically, we'll consider a simple two-dimensional square geometry. As the initial condition - the starting distribution of temperature across the geometry - we choose a [\"Gaussian\"](https://en.wikipedia.org/wiki/Gaussian_function#:~:text=In%20mathematics%2C%20a%20Gaussian%20function,characteristic%20symmetric%20%22bell%20curve%22%20shape) positioned in the center.\n",
    "\n",
    "#### Numerical solver\n",
    "1) We discretize space (`dx`, `dy`) and time (`dt`) and evaluate everything on a grid.\n",
    "2) We use the basic [finite difference method](https://en.wikipedia.org/wiki/Finite_difference_method) to compute derivatives on the grid, e.g.\n",
    "$$\n",
    "\\dfrac{\\partial T}{\\partial x}(x_i) \\approx \\dfrac{f(x_{i+1}) - f(x_i)}{\\Delta x} \n",
    "$$\n",
    "3) We use a two-step process:\n",
    "    a) Compute the first-order spatial derivates.\n",
    "    b) Then, update the temperature field (time integration).\n",
    "$$ \n",
    "\\begin{align}\n",
    "\\partial x &= \\dfrac{\\Delta T}{\\Delta x} \\\\\n",
    "\\partial y &= \\dfrac{\\Delta T}{\\Delta y} \\\\\n",
    "\\Delta T &= \\alpha\\Delta t \\left( \\dfrac{\\Delta (\\partial x)}{\\Delta x} + \\dfrac{(\\Delta \\partial y)}{\\Delta y} \\right)\n",
    "\\end{align}\n",
    "$$\n",
    "\n",
    "Note that the derivatives give our numerical solver the character of a [stencil](https://en.wikipedia.org/wiki/Iterative_Stencil_Loops). **Stencils are typically memory bound**, that is, data transfer is dominating over FLOPs and consequently performance is limited by the rate at which memory is transferred between memory and the arithmetic units. For this reason we will measure the performance in terms of an **effective memory bandwidth**.\n",
    "\n",
    "#### Result\n",
    "\n",
    "![](../imgs/heat_diffusion_animation.gif)"
   ]
  },
  {
   "cell_type": "markdown",
   "id": "185a2624-6d22-4e2a-b51b-6ef027d47e47",
   "metadata": {},
   "source": [
    "## Implementation"
   ]
  },
  {
   "cell_type": "code",
   "execution_count": 1,
   "id": "eaa37174-f3c4-466f-89ad-e4662c479dfa",
   "metadata": {
    "tags": []
   },
   "outputs": [
    {
     "data": {
      "text/plain": [
       "heatdiff_multithreading (generic function with 1 method)"
      ]
     },
     "execution_count": 1,
     "metadata": {},
     "output_type": "execute_result"
    }
   ],
   "source": [
    "using Printf\n",
    "using Base.Threads: @threads, nthreads\n",
    "\n",
    "Base.@kwdef struct Parameters\n",
    "    Δ::Float64\n",
    "    Δt::Float64\n",
    "    ngrid::Int64\n",
    "end\n",
    "\n",
    "function compute_first_order_loop_mt!(∂x, ∂y, T, p)\n",
    "    @threads :static for j in 2:(p.ngrid-1)\n",
    "        for i in 1:(p.ngrid-1)\n",
    "            @inbounds ∂x[i, j-1] = (T[i+1, j] - T[i, j]) / p.Δ\n",
    "        end\n",
    "    end\n",
    "    @threads :static for j in 1:(p.ngrid-1)\n",
    "        for i in 2:(p.ngrid-1)\n",
    "            @inbounds ∂y[i-1, j] = (T[i, j+1] - T[i, j]) / p.Δ\n",
    "        end\n",
    "    end\n",
    "    return nothing\n",
    "end\n",
    "\n",
    "function update_T_loop_mt!(T, ∂x, ∂y, p)\n",
    "    @threads :static for j in 2:(p.ngrid-1)\n",
    "        for i in 2:(p.ngrid-1)\n",
    "            @inbounds T[i, j] = T[i, j] + p.Δt *\n",
    "                                          ((∂x[i, j-1] - ∂x[i-1, j-1]) / p.Δ +\n",
    "                                           (∂y[i-1, j] - ∂y[i-1, j-1]) / p.Δ)\n",
    "        end\n",
    "    end\n",
    "    return nothing\n",
    "end\n",
    "\n",
    "function heatdiff_multithreading(; ngrid=2^12, init=:serial, timesteps=400, verbose=true)\n",
    "    L = 10.0 # domain length\n",
    "    Δ = L / ngrid # domain discretization\n",
    "    Δt = Δ^2 / 4.1 # time discretization\n",
    "    pts = range(start=Δ / 2, stop=L - Δ / 2, length=ngrid)\n",
    "    p = Parameters(; Δt, Δ, ngrid)\n",
    "\n",
    "    # temperature field - initial condition\n",
    "    T = Matrix{Float64}(undef, ngrid, ngrid)\n",
    "    if init != :parallel\n",
    "        T .= exp.(.-(pts .- L ./ 2.0) .^ 2 .- (pts .- L ./ 2.0)' .^ 2)\n",
    "    else\n",
    "        @threads :static for j in axes(T, 2)\n",
    "            for i in axes(T, 1)\n",
    "                T[i, j] = exp(-(pts[i] - L / 2.0)^2 - (pts[j] - L / 2.0)^2)\n",
    "            end\n",
    "        end\n",
    "    end\n",
    "\n",
    "    # partial derivatives (preallocation)\n",
    "    ∂x = Matrix{Float64}(undef, ngrid - 1, ngrid - 2)\n",
    "    ∂y = Matrix{Float64}(undef, ngrid - 2, ngrid - 1)\n",
    "    if init != :parallel\n",
    "        fill!(∂x, 0.0)\n",
    "        fill!(∂y, 0.0)\n",
    "    else\n",
    "\n",
    "        @threads :static for j in axes(∂x, 2)\n",
    "            for i in axes(∂x, 1)\n",
    "                ∂x[i, j] = 0.0\n",
    "            end\n",
    "        end\n",
    "\n",
    "        @threads :static for j in axes(∂y, 2)\n",
    "            for i in axes(∂y, 1)\n",
    "                ∂y[i, j] = 0.0\n",
    "            end\n",
    "        end\n",
    "    end\n",
    "\n",
    "    # time loop\n",
    "    elapsed_time = @elapsed for _ in 1:timesteps\n",
    "        # -------- stencil kernel --------\n",
    "        # first order derivatives\n",
    "        compute_first_order_loop_mt!(∂x, ∂y, T, p)\n",
    "        # update T\n",
    "        update_T_loop_mt!(T, ∂x, ∂y, p)\n",
    "        # --------------------------------\n",
    "    end\n",
    "    membw_eff = 2 * ngrid^2 * sizeof(eltype(T)) * timesteps * 1e-9 / elapsed_time\n",
    "    if verbose\n",
    "        @printf(\"\\tResults: membw_eff = %1.2f GB/s, time = %1.1e s \\n\", round(membw_eff; digits=2), elapsed_time)\n",
    "    end\n",
    "    return membw_eff\n",
    "end"
   ]
  },
  {
   "cell_type": "markdown",
   "id": "60e0f330-1b71-40f8-a78d-07c892fb7c49",
   "metadata": {},
   "source": [
    "## Benchmark"
   ]
  },
  {
   "cell_type": "code",
   "execution_count": 2,
   "id": "09389498-0eaa-4d63-b9b4-d158a2199d9c",
   "metadata": {
    "tags": []
   },
   "outputs": [
    {
     "name": "stdout",
     "output_type": "stream",
     "text": [
      "\n",
      "\u001b[1mEffective Memory Bandwidth (GB/s)\u001b[0m\n",
      "┌───────────────┬─────────┬───────────┐\n",
      "│\u001b[1m # Threads = 8 \u001b[0m│\u001b[1m :serial \u001b[0m│\u001b[1m :parallel \u001b[0m│\n",
      "├───────────────┼─────────┼───────────┤\n",
      "│\u001b[1m        :cores \u001b[0m│     7.5 │      7.53 │\n",
      "│\u001b[1m      :sockets \u001b[0m│    8.78 │     17.88 │\n",
      "│\u001b[1m         :numa \u001b[0m│   17.59 │     72.22 │\n",
      "└───────────────┴─────────┴───────────┘\n"
     ]
    }
   ],
   "source": [
    "using ThreadPinning\n",
    "using PrettyTables\n",
    "\n",
    "function bench(; nrepeat=1, ngrid=2^12)\n",
    "    # measurements\n",
    "    membw_results = Matrix{Float64}(undef, 3, 2)\n",
    "    for (i, pin) in enumerate((:cores, :sockets, :numa))\n",
    "        for (j, init) in enumerate((:serial, :parallel))\n",
    "            pinthreads(pin)\n",
    "            membw = 0.0\n",
    "            for _ in 1:nrepeat\n",
    "                membw = max(heatdiff_multithreading(; init, ngrid, verbose=false), membw)\n",
    "                # membw += heatdiff_multithreading(; init=init, verbose=false)\n",
    "            end\n",
    "            # membw /= nrepeat\n",
    "            membw_results[i, j] = round(membw; digits=2)\n",
    "        end\n",
    "    end\n",
    "\n",
    "    # (pretty) printing\n",
    "    println()\n",
    "    pretty_table(membw_results;\n",
    "        header=[\":serial\", \":parallel\"],\n",
    "        row_names=[\":cores\", \":sockets\", \":numa\"],\n",
    "        row_name_column_title=\"# Threads = $(Threads.nthreads())\",\n",
    "        title=\"Effective Memory Bandwidth (GB/s)\")\n",
    "    return nothing\n",
    "end\n",
    "\n",
    "bench()"
   ]
  }
 ],
 "metadata": {
  "kernelspec": {
   "display_name": "Julia (8 threads) 1.9.3",
   "language": "julia",
   "name": "julia-_8-threads_-1.9"
  },
  "language_info": {
   "file_extension": ".jl",
   "mimetype": "application/julia",
   "name": "julia",
   "version": "1.9.3"
  }
 },
 "nbformat": 4,
 "nbformat_minor": 5
}
