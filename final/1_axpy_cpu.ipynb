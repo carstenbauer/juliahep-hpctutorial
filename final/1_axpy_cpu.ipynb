{
 "cells": [
  {
   "cell_type": "markdown",
   "id": "c7a49e61-34c5-46c1-9f63-044aedbce8ea",
   "metadata": {
    "tags": []
   },
   "source": [
    "# JuliaHEP 2023 Workshop -  HPC Tutorial\n",
    "\n",
    "**When:** November 7, 2023\n",
    "\n",
    "**Where:** Erlangen Centre for Astroparticle Physics (ECAP)\n",
    "\n",
    "**GitHub repository:** https://github.com/carstenbauer/juliahep-hpctutorial"
   ]
  },
  {
   "cell_type": "markdown",
   "id": "19a90034-cd8a-4020-812c-8946947bfbbf",
   "metadata": {
    "tags": []
   },
   "source": [
    "## What's the plan for this tutorial?\n",
    "\n",
    "* Use Julia on an HPC cluster (maybe for the first time?)\n",
    "* Study the node-level performance scaling of a simple computational kernel\n",
    "* Learn about thread pinning, NUMA, and how to control both from within Julia\n",
    "* (If time permits: move the computation to an NVIDIA A100 GPU)"
   ]
  },
  {
   "cell_type": "markdown",
   "id": "7f5ba331-af39-4ddd-b91e-2a6e93e8e4f8",
   "metadata": {},
   "source": [
    "## Julia interactively on HPC clusters. How?\n",
    "\n",
    "* Terminal approach (SSH + e.g. vim + REPL)\n",
    "* **VS Code** → Remote SSH Extension\n",
    "  * login node (easy)\n",
    "  * compute node (tricky, sometimes impossible): [PC2 docs](https://upb-pc2.atlassian.net/wiki/spaces/PC2DOK/pages/1902225/Access+for+Applications+like+Visual+Studio+Code#Compute-nodes) and/or README.md\n",
    "\n",
    "**For this tutorial, we'll use the PC2 JupyterHub for simplicity.**"
   ]
  },
  {
   "cell_type": "markdown",
   "id": "9de30091-879b-452a-9bc0-d38b3618f80a",
   "metadata": {},
   "source": [
    "### [PC2 JupyterHub](https://jh.pc2.uni-paderborn.de/)\n",
    "\n",
    "**Link:** https://pc2.de/go/jupyterhub\n",
    "\n",
    "Most participants have access to the [Noctua 2](https://pc2.uni-paderborn.de/hpc-services/available-systems/noctua2) cluster through the [PC2 JupyterHub](https://jh.pc2.uni-paderborn.de/hub/home).\n",
    "\n",
    "In this case, **a browser is all that's needed!**\n",
    "\n",
    "#### Getting started\n",
    "\n",
    "* Login to [PC2 JupyterHub](https://pc2.de/go/jupyterhub) with the provided credentials.\n",
    "* After login, click on the \"Start My Server\" button.\n",
    "* Select the **\"JuliaHEP - HPC Tutorial (full CPU node)\"** preset (should already be the default) and click on \"Start\". This will start a Jupyter server on a Noctua 2 compute node (might take a little while).\n",
    "* Once in Jupyter, you should see a folder with your username in the left side bar. Navigate into this folder. In it you'll find a local copy of this git repository that you can use for the tutorial.\n",
    "* To make Julia (and the IJulia kernel) available, click on the little blue hexagon in the side bar on the left. Then, type \"jupyter\" into the search bar at the top. Hover over `JupyterKernel-Julia/1.9.3-foss-2022a-CUDA-11.7.0` and click on the appearing \"Load\" button.\n",
    "* You should be all set up! Feel free to open the first notebook `1_axpy_cpu.ipynb` and, in the top right corner, select the kernel **\"Julia (8 threads) 1.9.3\"**."
   ]
  },
  {
   "cell_type": "markdown",
   "id": "5e1e0fea-0553-4781-a5d9-c303be93e5ba",
   "metadata": {},
   "source": [
    "## Computational kernel: AXPY\n",
    "\n",
    "\"*A time X plus Y*\"\n",
    "\n",
    "$$ \\vec{y} = a \\cdot \\vec{x} + \\vec{y} $$\n",
    "\n",
    "Depending on the data type / precision:\n",
    "\n",
    "* **S**AXPY (S = single precision, i.e. `Float32`)\n",
    "* **D**AXPY (D = double precision, i.e. `Float64`)"
   ]
  },
  {
   "cell_type": "code",
   "execution_count": 1,
   "id": "191e6250-1c1d-4d37-9452-85cdbdc6ad20",
   "metadata": {
    "tags": []
   },
   "outputs": [
    {
     "data": {
      "text/plain": [
       "axpy_serial! (generic function with 1 method)"
      ]
     },
     "execution_count": 1,
     "metadata": {},
     "output_type": "execute_result"
    }
   ],
   "source": [
    "function axpy_serial!(y, a, x)\n",
    "    #\n",
    "    # TODO: Implement the serial AXPY kernel (naively).\n",
    "    #\n",
    "    for i in eachindex(x,y)\n",
    "        @inbounds y[i] = a * x[i] + y[i]\n",
    "    end\n",
    "    return nothing\n",
    "end"
   ]
  },
  {
   "cell_type": "markdown",
   "id": "91121fe4-ceea-4ae9-a6ef-8f02459a518f",
   "metadata": {
    "tags": []
   },
   "source": [
    "### Why AXPY?"
   ]
  },
  {
   "cell_type": "markdown",
   "id": "6379e1c8-2f55-4c02-a48e-13b0d32e762c",
   "metadata": {
    "tags": []
   },
   "source": [
    "#### What limits performance of computations?\n",
    "* memory access speed (*memory-bound*)\n",
    "* how fast floating-point operations (flops) can be done (*compute-bound*)\n",
    "\n",
    "The performance of most scientific codes is **memory-bound** these days!\n",
    "\n",
    "**CPU (AMD EPYC 7763)**\n",
    "\n",
    "*Peak compute performance over peak memory bandwidth*\n",
    "\n",
    "$$\n",
    "\\dfrac{3.5 \\ [\\textrm{TFlop/s}]}{200 \\ [\\textrm{GB/s}]} \\cdot 8 \\ \\textrm{B} = 140\n",
    "$$\n",
    "\n",
    "140 flops per number read, i.e. 8 bytes for `Float64`\n",
    "\n",
    "**GPU (NVIDIA A100)**\n",
    "\n",
    "*Peak compute performance over peak memory bandwidth* (only using CUDA cores)\n",
    "\n",
    "$$\n",
    "\\dfrac{19.5 \\ [\\textrm{TFlop/s}]}{1.5 \\ [\\textrm{TB/s}]} \\cdot 4 \\ \\textrm{B} = 52\n",
    "$$\n",
    "\n",
    "52 flops per number read, i.e. 4 bytes for `Float32`"
   ]
  },
  {
   "cell_type": "markdown",
   "id": "d44467e3-3980-4f63-ad79-c2c5977e5cea",
   "metadata": {},
   "source": [
    "#### Questions\n",
    "* How many **bytes** are transferred per iteration in AXPY?\n",
    "* How many **flops** (floating point operations) are performed per iteration in AXPY?\n",
    "* Is AXPY compute- or memory-bound?\n",
    "\n",
    "**\"Trick\" question:** How many **bytes** would be transferred in a non-inplace variant, i.e. `z[i] = a * x[i] + y[i]`? (Hint: It's likely not what you think 😉)"
   ]
  },
  {
   "cell_type": "markdown",
   "id": "c2708c09-593a-4653-8b6f-d710e97b7d69",
   "metadata": {},
   "source": [
    "Let's benchmark the performance of our AXPY kernel."
   ]
  },
  {
   "cell_type": "code",
   "execution_count": 2,
   "id": "f85ae398-51ef-4b81-804c-318f61483d3e",
   "metadata": {
    "tags": []
   },
   "outputs": [
    {
     "name": "stdout",
     "output_type": "stream",
     "text": [
      "  665.753 ms (0 allocations: 0 bytes)\n"
     ]
    }
   ],
   "source": [
    "using BenchmarkTools\n",
    "\n",
    "const N = 2^30\n",
    "\n",
    "a = 3.141\n",
    "x = rand(N)\n",
    "y = rand(N)\n",
    "\n",
    "@btime axpy_serial!($y, $a, $x) samples=5 evals=3;"
   ]
  },
  {
   "cell_type": "markdown",
   "id": "376064b2-c12e-499d-9124-4f20b6447169",
   "metadata": {},
   "source": [
    "Is this fast? What should we compare it to?\n",
    "\n",
    "Let's look at the **memory bandwidth** (data transfer to/from memory per unit time) and the compute performance (flops per unit time) instead."
   ]
  },
  {
   "cell_type": "code",
   "execution_count": 3,
   "id": "1c213c4e-910c-4c31-9d47-9076f277d36d",
   "metadata": {
    "tags": []
   },
   "outputs": [
    {
     "data": {
      "text/plain": [
       "measure_perf (generic function with 1 method)"
      ]
     },
     "execution_count": 3,
     "metadata": {},
     "output_type": "execute_result"
    }
   ],
   "source": [
    "using BenchmarkTools\n",
    "\n",
    "function generate_input_data(; N, dtype, kwargs...)\n",
    "    a = dtype(3.141)\n",
    "    x = rand(dtype, N)\n",
    "    y = rand(dtype, N)\n",
    "    return a,x,y\n",
    "end\n",
    "\n",
    "function measure_perf(f::F; N=2^30, dtype=Float64, verbose=true, kwargs...) where {F}  \n",
    "    # input data\n",
    "    a,x,y = generate_input_data(; N, dtype, kwargs...)\n",
    "\n",
    "    # time measurement\n",
    "    t = @belapsed $f($y, $a, $x) evals = 2 samples = 10\n",
    "    \n",
    "    # compute memory bandwidth and flops\n",
    "    bytes     = 3 * sizeof(dtype) * N   # TODO: num bytes transferred in AXPY kernel (all iterations)\n",
    "    flops     = 2 * N   # TODO: num flops performed in AXPY kernel (all iterations)\n",
    "    mem_rate  = bytes * 1e-9 / t   # TODO: memory bandwidth in GB/s\n",
    "    flop_rate = flops * 1e-9 / t   # TODO: flops in GFLOP/s\n",
    "    \n",
    "    if verbose\n",
    "        println(\"Dtype: $dtype\")\n",
    "        println(\"\\tMemory Bandwidth (GB/s): \", round(mem_rate; digits=2))\n",
    "        println(\"\\tCompute (GFLOP/s): \", round(flop_rate; digits=2))\n",
    "    end\n",
    "    return mem_rate, flop_rate\n",
    "end"
   ]
  },
  {
   "cell_type": "code",
   "execution_count": 4,
   "id": "99d6472f-a1fb-4919-8ed9-85f4dc38bbfb",
   "metadata": {
    "tags": []
   },
   "outputs": [
    {
     "name": "stdout",
     "output_type": "stream",
     "text": [
      "Dtype: Float64\n",
      "\tMemory Bandwidth (GB/s): 37.01\n",
      "\tCompute (GFLOP/s): 3.08\n"
     ]
    }
   ],
   "source": [
    "measure_perf(axpy_serial!);"
   ]
  },
  {
   "cell_type": "markdown",
   "id": "ceab68d0-cb95-4f5d-bdcc-a5b5fd4c0e81",
   "metadata": {},
   "source": [
    "This is about 20% of the theoretical value for one entire CPU (with 64 cores). This will serve as our single-core performance reference point."
   ]
  },
  {
   "cell_type": "markdown",
   "id": "5cafde1a-3aeb-4ee6-8ad2-90b2c91c373b",
   "metadata": {},
   "source": [
    "## Node-level parallelisation (multithreading)"
   ]
  },
  {
   "cell_type": "markdown",
   "id": "5acf1e77-5f6a-4196-b195-70ce1dd6a0e5",
   "metadata": {},
   "source": [
    "**SIMD:** `axpy_serial!` is already *parallel* at instruction level"
   ]
  },
  {
   "cell_type": "code",
   "execution_count": 5,
   "id": "c06efab1-08fd-4d67-9500-82665b382214",
   "metadata": {
    "scrolled": true,
    "tags": []
   },
   "outputs": [
    {
     "name": "stdout",
     "output_type": "stream",
     "text": [
      "\t\u001b[0m.text\n",
      "\t\u001b[0m.file\t\u001b[0m\"axpy_serial!\"\n",
      "\t\u001b[0m.globl\t\u001b[0m\"julia_axpy_serial!_1097\"       \u001b[90m# -- Begin function julia_axpy_serial!_1097\u001b[39m\n",
      "\t\u001b[0m.p2align\t\u001b[33m4\u001b[39m\u001b[0m, \u001b[33m0x90\u001b[39m\n",
      "\t\u001b[0m.type\t\u001b[0m\"julia_axpy_serial!_1097\"\u001b[0m,\u001b[0m@function\n",
      "\u001b[91m\"julia_axpy_serial!_1097\":\u001b[39m              \u001b[90m# @\"julia_axpy_serial!_1097\"\u001b[39m\n",
      "\t\u001b[0m.cfi_startproc\n",
      "\u001b[90m# %bb.0:                                # %top\u001b[39m\n",
      "\t\u001b[96m\u001b[1mpushq\u001b[22m\u001b[39m\t\u001b[0m%rbp\n",
      "\t\u001b[0m.cfi_def_cfa_offset \u001b[33m16\u001b[39m\n",
      "\t\u001b[0m.cfi_offset \u001b[0m%rbp\u001b[0m, \u001b[33m-16\u001b[39m\n",
      "\t\u001b[96m\u001b[1mmovq\u001b[22m\u001b[39m\t\u001b[0m%rsp\u001b[0m, \u001b[0m%rbp\n",
      "\t\u001b[0m.cfi_def_cfa_register \u001b[0m%rbp\n",
      "\t\u001b[96m\u001b[1mpushq\u001b[22m\u001b[39m\t\u001b[0m%r15\n",
      "\t\u001b[96m\u001b[1mpushq\u001b[22m\u001b[39m\t\u001b[0m%r14\n",
      "\t\u001b[96m\u001b[1mpushq\u001b[22m\u001b[39m\t\u001b[0m%r13\n",
      "\t\u001b[96m\u001b[1mpushq\u001b[22m\u001b[39m\t\u001b[0m%r12\n",
      "\t\u001b[96m\u001b[1mpushq\u001b[22m\u001b[39m\t\u001b[0m%rbx\n",
      "\t\u001b[96m\u001b[1mandq\u001b[22m\u001b[39m\t\u001b[33m$-32\u001b[39m\u001b[0m, \u001b[0m%rsp\n",
      "\t\u001b[96m\u001b[1msubq\u001b[22m\u001b[39m\t\u001b[33m$96\u001b[39m\u001b[0m, \u001b[0m%rsp\n",
      "\t\u001b[0m.cfi_offset \u001b[0m%rbx\u001b[0m, \u001b[33m-56\u001b[39m\n",
      "\t\u001b[0m.cfi_offset \u001b[0m%r12\u001b[0m, \u001b[33m-48\u001b[39m\n",
      "\t\u001b[0m.cfi_offset \u001b[0m%r13\u001b[0m, \u001b[33m-40\u001b[39m\n",
      "\t\u001b[0m.cfi_offset \u001b[0m%r14\u001b[0m, \u001b[33m-32\u001b[39m\n",
      "\t\u001b[0m.cfi_offset \u001b[0m%r15\u001b[0m, \u001b[33m-24\u001b[39m\n",
      "\t\u001b[96m\u001b[1mvxorpd\u001b[22m\u001b[39m\t\u001b[0m%xmm1\u001b[0m, \u001b[0m%xmm1\u001b[0m, \u001b[0m%xmm1\n",
      "\t\u001b[96m\u001b[1mvmovapd\u001b[22m\u001b[39m\t\u001b[0m%ymm1\u001b[0m, \u001b[33m(\u001b[39m\u001b[0m%rsp\u001b[33m)\u001b[39m\n",
      "\t\u001b[0m#APP\n",
      "\t\u001b[96m\u001b[1mmovq\u001b[22m\u001b[39m\t\u001b[0m%fs\u001b[0m:\u001b[33m0\u001b[39m\u001b[0m, \u001b[0m%rax\n",
      "\t\u001b[0m#NO_APP\n",
      "\t\u001b[96m\u001b[1mmovq\u001b[22m\u001b[39m\t\u001b[0m%rsp\u001b[0m, \u001b[0m%rcx\n",
      "\t\u001b[96m\u001b[1mmovq\u001b[22m\u001b[39m\t\u001b[33m-8\u001b[39m\u001b[33m(\u001b[39m\u001b[0m%rax\u001b[33m)\u001b[39m\u001b[0m, \u001b[0m%r15\n",
      "\t\u001b[96m\u001b[1mmovq\u001b[22m\u001b[39m\t\u001b[33m$8\u001b[39m\u001b[0m, \u001b[33m(\u001b[39m\u001b[0m%rsp\u001b[33m)\u001b[39m\n",
      "\t\u001b[96m\u001b[1mmovq\u001b[22m\u001b[39m\t\u001b[33m(\u001b[39m\u001b[0m%r15\u001b[33m)\u001b[39m\u001b[0m, \u001b[0m%rax\n",
      "\t\u001b[96m\u001b[1mmovq\u001b[22m\u001b[39m\t\u001b[0m%rax\u001b[0m, \u001b[33m8\u001b[39m\u001b[33m(\u001b[39m\u001b[0m%rsp\u001b[33m)\u001b[39m\n",
      "\t\u001b[96m\u001b[1mmovq\u001b[22m\u001b[39m\t\u001b[0m%rcx\u001b[0m, \u001b[33m(\u001b[39m\u001b[0m%r15\u001b[33m)\u001b[39m\n",
      "\t\u001b[96m\u001b[1mmovq\u001b[22m\u001b[39m\t\u001b[33m8\u001b[39m\u001b[33m(\u001b[39m\u001b[0m%rsi\u001b[33m)\u001b[39m\u001b[0m, \u001b[0m%rbx\n",
      "\t\u001b[96m\u001b[1mmovq\u001b[22m\u001b[39m\t\u001b[33m8\u001b[39m\u001b[33m(\u001b[39m\u001b[0m%rdi\u001b[33m)\u001b[39m\u001b[0m, \u001b[0m%r12\n",
      "\t\u001b[96m\u001b[1mcmpq\u001b[22m\u001b[39m\t\u001b[0m%r12\u001b[0m, \u001b[0m%rbx\n",
      "\t\u001b[96m\u001b[1mjne\u001b[22m\u001b[39m\t\u001b[0m.LBB0_11\n",
      "\u001b[90m# %bb.1:                                # %L22\u001b[39m\n",
      "\t\u001b[96m\u001b[1mtestq\u001b[22m\u001b[39m\t\u001b[0m%rbx\u001b[0m, \u001b[0m%rbx\n",
      "\t\u001b[96m\u001b[1mje\u001b[22m\u001b[39m\t\u001b[0m.LBB0_10\n",
      "\u001b[90m# %bb.2:                                # %L31.preheader\u001b[39m\n",
      "\t\u001b[96m\u001b[1mmovq\u001b[22m\u001b[39m\t\u001b[33m(\u001b[39m\u001b[0m%rsi\u001b[33m)\u001b[39m\u001b[0m, \u001b[0m%rax\n",
      "\t\u001b[96m\u001b[1mmovq\u001b[22m\u001b[39m\t\u001b[33m(\u001b[39m\u001b[0m%rdi\u001b[33m)\u001b[39m\u001b[0m, \u001b[0m%rcx\n",
      "\t\u001b[96m\u001b[1mmovl\u001b[22m\u001b[39m\t\u001b[33m$1\u001b[39m\u001b[0m, \u001b[0m%edx\n",
      "\t\u001b[96m\u001b[1mcmpq\u001b[22m\u001b[39m\t\u001b[33m$16\u001b[39m\u001b[0m, \u001b[0m%rbx\n",
      "\t\u001b[96m\u001b[1mjb\u001b[22m\u001b[39m\t\u001b[0m.LBB0_8\n",
      "\u001b[90m# %bb.3:                                # %vector.memcheck\u001b[39m\n",
      "\t\u001b[96m\u001b[1mleaq\u001b[22m\u001b[39m\t\u001b[33m(\u001b[39m\u001b[0m%rax\u001b[0m,\u001b[0m%rbx\u001b[0m,\u001b[33m8\u001b[39m\u001b[33m)\u001b[39m\u001b[0m, \u001b[0m%rsi\n",
      "\t\u001b[96m\u001b[1mcmpq\u001b[22m\u001b[39m\t\u001b[0m%rsi\u001b[0m, \u001b[0m%rcx\n",
      "\t\u001b[96m\u001b[1mjae\u001b[22m\u001b[39m\t\u001b[0m.LBB0_5\n",
      "\u001b[90m# %bb.4:                                # %vector.memcheck\u001b[39m\n",
      "\t\u001b[96m\u001b[1mleaq\u001b[22m\u001b[39m\t\u001b[33m(\u001b[39m\u001b[0m%rcx\u001b[0m,\u001b[0m%rbx\u001b[0m,\u001b[33m8\u001b[39m\u001b[33m)\u001b[39m\u001b[0m, \u001b[0m%rsi\n",
      "\t\u001b[96m\u001b[1mcmpq\u001b[22m\u001b[39m\t\u001b[0m%rsi\u001b[0m, \u001b[0m%rax\n",
      "\t\u001b[96m\u001b[1mjb\u001b[22m\u001b[39m\t\u001b[0m.LBB0_8\n",
      "\u001b[91m.LBB0_5:\u001b[39m                                \u001b[90m# %vector.ph\u001b[39m\n",
      "\t\u001b[96m\u001b[1mmovq\u001b[22m\u001b[39m\t\u001b[0m%rbx\u001b[0m, \u001b[0m%rsi\n",
      "\t\u001b[96m\u001b[1mandq\u001b[22m\u001b[39m\t\u001b[33m$-16\u001b[39m\u001b[0m, \u001b[0m%rsi\n",
      "\t\u001b[96m\u001b[1mvbroadcastsd\u001b[22m\u001b[39m\t\u001b[0m%xmm0\u001b[0m, \u001b[0m%ymm1\n",
      "\t\u001b[96m\u001b[1mxorl\u001b[22m\u001b[39m\t\u001b[0m%edi\u001b[0m, \u001b[0m%edi\n",
      "\t\u001b[96m\u001b[1mleaq\u001b[22m\u001b[39m\t\u001b[33m1\u001b[39m\u001b[33m(\u001b[39m\u001b[0m%rsi\u001b[33m)\u001b[39m\u001b[0m, \u001b[0m%rdx\n",
      "\t\u001b[0m.p2align\t\u001b[33m4\u001b[39m\u001b[0m, \u001b[33m0x90\u001b[39m\n",
      "\u001b[91m.LBB0_6:\u001b[39m                                \u001b[90m# %vector.body\u001b[39m\n",
      "                                        \u001b[90m# =>This Inner Loop Header: Depth=1\u001b[39m\n",
      "\t\u001b[96m\u001b[1mvmulpd\u001b[22m\u001b[39m\t\u001b[33m(\u001b[39m\u001b[0m%rax\u001b[0m,\u001b[0m%rdi\u001b[0m,\u001b[33m8\u001b[39m\u001b[33m)\u001b[39m\u001b[0m, \u001b[0m%ymm1\u001b[0m, \u001b[0m%ymm2\n",
      "\t\u001b[96m\u001b[1mvmulpd\u001b[22m\u001b[39m\t\u001b[33m32\u001b[39m\u001b[33m(\u001b[39m\u001b[0m%rax\u001b[0m,\u001b[0m%rdi\u001b[0m,\u001b[33m8\u001b[39m\u001b[33m)\u001b[39m\u001b[0m, \u001b[0m%ymm1\u001b[0m, \u001b[0m%ymm3\n",
      "\t\u001b[96m\u001b[1mvmulpd\u001b[22m\u001b[39m\t\u001b[33m64\u001b[39m\u001b[33m(\u001b[39m\u001b[0m%rax\u001b[0m,\u001b[0m%rdi\u001b[0m,\u001b[33m8\u001b[39m\u001b[33m)\u001b[39m\u001b[0m, \u001b[0m%ymm1\u001b[0m, \u001b[0m%ymm4\n",
      "\t\u001b[96m\u001b[1mvmulpd\u001b[22m\u001b[39m\t\u001b[33m96\u001b[39m\u001b[33m(\u001b[39m\u001b[0m%rax\u001b[0m,\u001b[0m%rdi\u001b[0m,\u001b[33m8\u001b[39m\u001b[33m)\u001b[39m\u001b[0m, \u001b[0m%ymm1\u001b[0m, \u001b[0m%ymm5\n",
      "\t\u001b[96m\u001b[1mvaddpd\u001b[22m\u001b[39m\t\u001b[33m(\u001b[39m\u001b[0m%rcx\u001b[0m,\u001b[0m%rdi\u001b[0m,\u001b[33m8\u001b[39m\u001b[33m)\u001b[39m\u001b[0m, \u001b[0m%ymm2\u001b[0m, \u001b[0m%ymm2\n",
      "\t\u001b[96m\u001b[1mvaddpd\u001b[22m\u001b[39m\t\u001b[33m32\u001b[39m\u001b[33m(\u001b[39m\u001b[0m%rcx\u001b[0m,\u001b[0m%rdi\u001b[0m,\u001b[33m8\u001b[39m\u001b[33m)\u001b[39m\u001b[0m, \u001b[0m%ymm3\u001b[0m, \u001b[0m%ymm3\n",
      "\t\u001b[96m\u001b[1mvaddpd\u001b[22m\u001b[39m\t\u001b[33m64\u001b[39m\u001b[33m(\u001b[39m\u001b[0m%rcx\u001b[0m,\u001b[0m%rdi\u001b[0m,\u001b[33m8\u001b[39m\u001b[33m)\u001b[39m\u001b[0m, \u001b[0m%ymm4\u001b[0m, \u001b[0m%ymm4\n",
      "\t\u001b[96m\u001b[1mvaddpd\u001b[22m\u001b[39m\t\u001b[33m96\u001b[39m\u001b[33m(\u001b[39m\u001b[0m%rcx\u001b[0m,\u001b[0m%rdi\u001b[0m,\u001b[33m8\u001b[39m\u001b[33m)\u001b[39m\u001b[0m, \u001b[0m%ymm5\u001b[0m, \u001b[0m%ymm5\n",
      "\t\u001b[96m\u001b[1mvmovupd\u001b[22m\u001b[39m\t\u001b[0m%ymm2\u001b[0m, \u001b[33m(\u001b[39m\u001b[0m%rcx\u001b[0m,\u001b[0m%rdi\u001b[0m,\u001b[33m8\u001b[39m\u001b[33m)\u001b[39m\n",
      "\t\u001b[96m\u001b[1mvmovupd\u001b[22m\u001b[39m\t\u001b[0m%ymm3\u001b[0m, \u001b[33m32\u001b[39m\u001b[33m(\u001b[39m\u001b[0m%rcx\u001b[0m,\u001b[0m%rdi\u001b[0m,\u001b[33m8\u001b[39m\u001b[33m)\u001b[39m\n",
      "\t\u001b[96m\u001b[1mvmovupd\u001b[22m\u001b[39m\t\u001b[0m%ymm4\u001b[0m, \u001b[33m64\u001b[39m\u001b[33m(\u001b[39m\u001b[0m%rcx\u001b[0m,\u001b[0m%rdi\u001b[0m,\u001b[33m8\u001b[39m\u001b[33m)\u001b[39m\n",
      "\t\u001b[96m\u001b[1mvmovupd\u001b[22m\u001b[39m\t\u001b[0m%ymm5\u001b[0m, \u001b[33m96\u001b[39m\u001b[33m(\u001b[39m\u001b[0m%rcx\u001b[0m,\u001b[0m%rdi\u001b[0m,\u001b[33m8\u001b[39m\u001b[33m)\u001b[39m\n",
      "\t\u001b[96m\u001b[1maddq\u001b[22m\u001b[39m\t\u001b[33m$16\u001b[39m\u001b[0m, \u001b[0m%rdi\n",
      "\t\u001b[96m\u001b[1mcmpq\u001b[22m\u001b[39m\t\u001b[0m%rdi\u001b[0m, \u001b[0m%rsi\n",
      "\t\u001b[96m\u001b[1mjne\u001b[22m\u001b[39m\t\u001b[0m.LBB0_6\n",
      "\u001b[90m# %bb.7:                                # %middle.block\u001b[39m\n",
      "\t\u001b[96m\u001b[1mcmpq\u001b[22m\u001b[39m\t\u001b[0m%rsi\u001b[0m, \u001b[0m%rbx\n",
      "\t\u001b[96m\u001b[1mje\u001b[22m\u001b[39m\t\u001b[0m.LBB0_10\n",
      "\u001b[91m.LBB0_8:\u001b[39m                                \u001b[90m# %scalar.ph\u001b[39m\n",
      "\t\u001b[96m\u001b[1mdecq\u001b[22m\u001b[39m\t\u001b[0m%rdx\n",
      "\t\u001b[0m.p2align\t\u001b[33m4\u001b[39m\u001b[0m, \u001b[33m0x90\u001b[39m\n",
      "\u001b[91m.LBB0_9:\u001b[39m                                \u001b[90m# %L31\u001b[39m\n",
      "                                        \u001b[90m# =>This Inner Loop Header: Depth=1\u001b[39m\n",
      "\t\u001b[96m\u001b[1mvmulsd\u001b[22m\u001b[39m\t\u001b[33m(\u001b[39m\u001b[0m%rax\u001b[0m,\u001b[0m%rdx\u001b[0m,\u001b[33m8\u001b[39m\u001b[33m)\u001b[39m\u001b[0m, \u001b[0m%xmm0\u001b[0m, \u001b[0m%xmm1\n",
      "\t\u001b[96m\u001b[1mvaddsd\u001b[22m\u001b[39m\t\u001b[33m(\u001b[39m\u001b[0m%rcx\u001b[0m,\u001b[0m%rdx\u001b[0m,\u001b[33m8\u001b[39m\u001b[33m)\u001b[39m\u001b[0m, \u001b[0m%xmm1\u001b[0m, \u001b[0m%xmm1\n",
      "\t\u001b[96m\u001b[1mvmovsd\u001b[22m\u001b[39m\t\u001b[0m%xmm1\u001b[0m, \u001b[33m(\u001b[39m\u001b[0m%rcx\u001b[0m,\u001b[0m%rdx\u001b[0m,\u001b[33m8\u001b[39m\u001b[33m)\u001b[39m\n",
      "\t\u001b[96m\u001b[1mincq\u001b[22m\u001b[39m\t\u001b[0m%rdx\n",
      "\t\u001b[96m\u001b[1mcmpq\u001b[22m\u001b[39m\t\u001b[0m%rdx\u001b[0m, \u001b[0m%rbx\n",
      "\t\u001b[96m\u001b[1mjne\u001b[22m\u001b[39m\t\u001b[0m.LBB0_9\n",
      "\u001b[91m.LBB0_10:\u001b[39m                               \u001b[90m# %L49\u001b[39m\n",
      "\t\u001b[96m\u001b[1mmovq\u001b[22m\u001b[39m\t\u001b[33m8\u001b[39m\u001b[33m(\u001b[39m\u001b[0m%rsp\u001b[33m)\u001b[39m\u001b[0m, \u001b[0m%rax\n",
      "\t\u001b[96m\u001b[1mmovq\u001b[22m\u001b[39m\t\u001b[0m%rax\u001b[0m, \u001b[33m(\u001b[39m\u001b[0m%r15\u001b[33m)\u001b[39m\n",
      "\t\u001b[96m\u001b[1mleaq\u001b[22m\u001b[39m\t\u001b[33m-40\u001b[39m\u001b[33m(\u001b[39m\u001b[0m%rbp\u001b[33m)\u001b[39m\u001b[0m, \u001b[0m%rsp\n",
      "\t\u001b[96m\u001b[1mpopq\u001b[22m\u001b[39m\t\u001b[0m%rbx\n",
      "\t\u001b[96m\u001b[1mpopq\u001b[22m\u001b[39m\t\u001b[0m%r12\n",
      "\t\u001b[96m\u001b[1mpopq\u001b[22m\u001b[39m\t\u001b[0m%r13\n",
      "\t\u001b[96m\u001b[1mpopq\u001b[22m\u001b[39m\t\u001b[0m%r14\n",
      "\t\u001b[96m\u001b[1mpopq\u001b[22m\u001b[39m\t\u001b[0m%r15\n",
      "\t\u001b[96m\u001b[1mpopq\u001b[22m\u001b[39m\t\u001b[0m%rbp\n",
      "\t\u001b[0m.cfi_def_cfa \u001b[0m%rsp\u001b[0m, \u001b[33m8\u001b[39m\n",
      "\t\u001b[96m\u001b[1mvzeroupper\u001b[22m\u001b[39m\n",
      "\t\u001b[96m\u001b[1mretq\u001b[22m\u001b[39m\n",
      "\u001b[91m.LBB0_11:\u001b[39m                               \u001b[90m# %L11\u001b[39m\n",
      "\t\u001b[0m.cfi_def_cfa \u001b[0m%rbp\u001b[0m, \u001b[33m16\u001b[39m\n",
      "\t\u001b[96m\u001b[1mmovq\u001b[22m\u001b[39m\t\u001b[33m16\u001b[39m\u001b[33m(\u001b[39m\u001b[0m%r15\u001b[33m)\u001b[39m\u001b[0m, \u001b[0m%rdi\n",
      "\t\u001b[96m\u001b[1mmovabsq\u001b[22m\u001b[39m\t\u001b[93m$ijl_gc_pool_alloc\u001b[39m\u001b[0m, \u001b[0m%r14\n",
      "\t\u001b[96m\u001b[1mmovl\u001b[22m\u001b[39m\t\u001b[33m$1392\u001b[39m\u001b[0m, \u001b[0m%esi                     \u001b[90m# imm = 0x570\u001b[39m\n",
      "\t\u001b[96m\u001b[1mmovl\u001b[22m\u001b[39m\t\u001b[33m$16\u001b[39m\u001b[0m, \u001b[0m%edx\n",
      "\t\u001b[96m\u001b[1mvzeroupper\u001b[22m\u001b[39m\n",
      "\t\u001b[96m\u001b[1mcallq\u001b[22m\u001b[39m\t\u001b[0m*\u001b[0m%r14\n",
      "\t\u001b[96m\u001b[1mmovabsq\u001b[22m\u001b[39m\t\u001b[33m$23290869580560\u001b[39m\u001b[0m, \u001b[0m%r13           \u001b[90m# imm = 0x152ED4020310\u001b[39m\n",
      "\t\u001b[96m\u001b[1mmovl\u001b[22m\u001b[39m\t\u001b[33m$1392\u001b[39m\u001b[0m, \u001b[0m%esi                     \u001b[90m# imm = 0x570\u001b[39m\n",
      "\t\u001b[96m\u001b[1mmovl\u001b[22m\u001b[39m\t\u001b[33m$16\u001b[39m\u001b[0m, \u001b[0m%edx\n",
      "\t\u001b[96m\u001b[1mmovq\u001b[22m\u001b[39m\t\u001b[0m%r14\u001b[0m, \u001b[0m%rcx\n",
      "\t\u001b[96m\u001b[1mmovq\u001b[22m\u001b[39m\t\u001b[0m%rax\u001b[0m, \u001b[0m%r14\n",
      "\t\u001b[96m\u001b[1mmovq\u001b[22m\u001b[39m\t\u001b[0m%r13\u001b[0m, \u001b[33m-8\u001b[39m\u001b[33m(\u001b[39m\u001b[0m%rax\u001b[33m)\u001b[39m\n",
      "\t\u001b[96m\u001b[1mmovq\u001b[22m\u001b[39m\t\u001b[0m%rbx\u001b[0m, \u001b[33m(\u001b[39m\u001b[0m%rax\u001b[33m)\u001b[39m\n",
      "\t\u001b[96m\u001b[1mmovq\u001b[22m\u001b[39m\t\u001b[0m%rax\u001b[0m, \u001b[33m24\u001b[39m\u001b[33m(\u001b[39m\u001b[0m%rsp\u001b[33m)\u001b[39m\n",
      "\t\u001b[96m\u001b[1mmovq\u001b[22m\u001b[39m\t\u001b[33m16\u001b[39m\u001b[33m(\u001b[39m\u001b[0m%r15\u001b[33m)\u001b[39m\u001b[0m, \u001b[0m%rdi\n",
      "\t\u001b[96m\u001b[1mcallq\u001b[22m\u001b[39m\t\u001b[0m*\u001b[0m%rcx\n",
      "\t\u001b[96m\u001b[1mmovabsq\u001b[22m\u001b[39m\t\u001b[33m$23290867565440\u001b[39m\u001b[0m, \u001b[0m%rcx           \u001b[90m# imm = 0x152ED3E34380\u001b[39m\n",
      "\t\u001b[96m\u001b[1mmovq\u001b[22m\u001b[39m\t\u001b[0m%r13\u001b[0m, \u001b[33m-8\u001b[39m\u001b[33m(\u001b[39m\u001b[0m%rax\u001b[33m)\u001b[39m\n",
      "\t\u001b[96m\u001b[1mmovq\u001b[22m\u001b[39m\t\u001b[0m%r12\u001b[0m, \u001b[33m(\u001b[39m\u001b[0m%rax\u001b[33m)\u001b[39m\n",
      "\t\u001b[96m\u001b[1mmovq\u001b[22m\u001b[39m\t\u001b[0m%rax\u001b[0m, \u001b[33m16\u001b[39m\u001b[33m(\u001b[39m\u001b[0m%rsp\u001b[33m)\u001b[39m\n",
      "\t\u001b[96m\u001b[1mmovabsq\u001b[22m\u001b[39m\t\u001b[33m$23290891356848\u001b[39m\u001b[0m, \u001b[0m%rdi           \u001b[90m# imm = 0x152ED54E4AB0\u001b[39m\n",
      "\t\u001b[96m\u001b[1mleaq\u001b[22m\u001b[39m\t\u001b[33m48\u001b[39m\u001b[33m(\u001b[39m\u001b[0m%rsp\u001b[33m)\u001b[39m\u001b[0m, \u001b[0m%rsi\n",
      "\t\u001b[96m\u001b[1mmovl\u001b[22m\u001b[39m\t\u001b[33m$3\u001b[39m\u001b[0m, \u001b[0m%edx\n",
      "\t\u001b[96m\u001b[1mmovq\u001b[22m\u001b[39m\t\u001b[0m%rcx\u001b[0m, \u001b[33m48\u001b[39m\u001b[33m(\u001b[39m\u001b[0m%rsp\u001b[33m)\u001b[39m\n",
      "\t\u001b[96m\u001b[1mmovq\u001b[22m\u001b[39m\t\u001b[0m%r14\u001b[0m, \u001b[33m56\u001b[39m\u001b[33m(\u001b[39m\u001b[0m%rsp\u001b[33m)\u001b[39m\n",
      "\t\u001b[96m\u001b[1mmovq\u001b[22m\u001b[39m\t\u001b[0m%rax\u001b[0m, \u001b[33m64\u001b[39m\u001b[33m(\u001b[39m\u001b[0m%rsp\u001b[33m)\u001b[39m\n",
      "\t\u001b[96m\u001b[1mmovabsq\u001b[22m\u001b[39m\t\u001b[93m$ijl_invoke\u001b[39m\u001b[0m, \u001b[0m%rax\n",
      "\t\u001b[96m\u001b[1mmovabsq\u001b[22m\u001b[39m\t\u001b[33m$23290996868128\u001b[39m\u001b[0m, \u001b[0m%rcx           \u001b[90m# imm = 0x152EDB984420\u001b[39m\n",
      "\t\u001b[96m\u001b[1mcallq\u001b[22m\u001b[39m\t\u001b[0m*\u001b[0m%rax\n",
      "\t\u001b[96m\u001b[1mud2\u001b[22m\u001b[39m\n",
      "\u001b[91m.Lfunc_end0:\u001b[39m\n",
      "\t\u001b[0m.size\t\u001b[0m\"julia_axpy_serial!_1097\"\u001b[0m, \u001b[0m.Lfunc_end0-\"julia_axpy_serial!_1097\"\n",
      "\t\u001b[0m.cfi_endproc\n",
      "                                        \u001b[90m# -- End function\u001b[39m\n",
      "\t\u001b[0m.section\t\u001b[0m\".note.GNU-stack\"\u001b[0m,\u001b[0m\"\"\u001b[0m,\u001b[0m@progbits\n"
     ]
    }
   ],
   "source": [
    "@code_native debuginfo=:none axpy_serial!(y,a,x)"
   ]
  },
  {
   "cell_type": "markdown",
   "id": "f9cfad5f-2866-4470-8bc2-d229578a8e69",
   "metadata": {},
   "source": [
    "We want to parallelize our AXPY kernel via **multithreading**.\n",
    "\n",
    "Julia provides the `@threads` macro to multithread for-loops."
   ]
  },
  {
   "cell_type": "markdown",
   "id": "ab469153-3ecd-4439-a95e-fdaa6104efc8",
   "metadata": {},
   "source": [
    "**Make sure that you actually have multiple threads in this Julia session!** (I recommend 8 threads on Noctua 2.)"
   ]
  },
  {
   "cell_type": "code",
   "execution_count": 6,
   "id": "035847d9-ecbb-437b-b450-5615902d6f7a",
   "metadata": {
    "tags": []
   },
   "outputs": [
    {
     "data": {
      "text/plain": [
       "8"
      ]
     },
     "execution_count": 6,
     "metadata": {},
     "output_type": "execute_result"
    }
   ],
   "source": [
    "using Base.Threads: @threads, nthreads\n",
    "\n",
    "@assert nthreads() > 1\n",
    "nthreads()"
   ]
  },
  {
   "cell_type": "code",
   "execution_count": 7,
   "id": "e71a8b1d-bb29-4286-b9bf-86282351a32c",
   "metadata": {
    "tags": []
   },
   "outputs": [
    {
     "data": {
      "text/plain": [
       "axpy_multithreading_dynamic! (generic function with 1 method)"
      ]
     },
     "execution_count": 7,
     "metadata": {},
     "output_type": "execute_result"
    }
   ],
   "source": [
    "function axpy_multithreading_dynamic!(y, a, x)\n",
    "    #\n",
    "    # TODO: Implement a naive multithreaded AXPY kernel (with @threads).\n",
    "    #\n",
    "    @threads for i in eachindex(y,x)\n",
    "        @inbounds y[i] = a * x[i] + y[i]\n",
    "    end\n",
    "    return nothing\n",
    "end"
   ]
  },
  {
   "cell_type": "code",
   "execution_count": 8,
   "id": "517406a9-2881-420d-8423-d83f18929e2f",
   "metadata": {
    "tags": []
   },
   "outputs": [
    {
     "name": "stdout",
     "output_type": "stream",
     "text": [
      "Dtype: Float64\n",
      "\tMemory Bandwidth (GB/s): 41.65\n",
      "\tCompute (GFLOP/s): 3.47\n"
     ]
    }
   ],
   "source": [
    "measure_perf(axpy_multithreading_dynamic!);"
   ]
  },
  {
   "cell_type": "markdown",
   "id": "1105b601-3d3d-4f95-ad38-a5d746616e02",
   "metadata": {},
   "source": [
    "🙁 **What's going on?! Why no (or not much) speedup?!** 😢"
   ]
  },
  {
   "cell_type": "markdown",
   "id": "a9876df9-499b-4955-9083-966f9acf1f3e",
   "metadata": {},
   "source": [
    "### Pinning Julia threads"
   ]
  },
  {
   "cell_type": "markdown",
   "id": "3292bd15-b73a-40d8-ad86-9da6980bc070",
   "metadata": {},
   "source": [
    "**Why** pin threads?\n",
    "\n",
    "* stable performance (e.g. avoid fluctuations in benchmarks)\n",
    "* avoid double occupation of CPU-cores / CPU-threads\n",
    "* fixed memory locality\n",
    "* (hardware performance monitoring → [LIKWID.jl](https://github.com/JuliaPerf/LIKWID.jl))\n",
    "\n",
    "**How** pin Julia threads? → [ThreadPinning.jl](https://github.com/carstenbauer/ThreadPinning.jl)\n",
    "\n",
    "What about external tools like `numactl`, `taskset`, etc.? Doesn't work reliably because they often [can't distinguish](https://discourse.julialang.org/t/thread-affinitization-pinning-julia-threads-to-cores/58069/5) between Julia threads and other internal threads."
   ]
  },
  {
   "cell_type": "markdown",
   "id": "1929f363-fcb5-4f5e-8102-09f28a240c71",
   "metadata": {},
   "source": [
    "<br>\n",
    "<img src=\"../imgs/threadpinning_pinthreads.svg\" width=700>\n",
    "<br>"
   ]
  },
  {
   "cell_type": "markdown",
   "id": "5ac3df38-3153-492b-8dbe-b9ab4cc9161e",
   "metadata": {},
   "source": [
    "(More? See my short talk at JuliaCon2023 @ MIT: https://youtu.be/6Whc9XtlCC0)"
   ]
  },
  {
   "cell_type": "code",
   "execution_count": 9,
   "id": "02505215-cc90-4512-aa73-fae51142c90c",
   "metadata": {
    "tags": []
   },
   "outputs": [],
   "source": [
    "using ThreadPinning"
   ]
  },
  {
   "cell_type": "code",
   "execution_count": 10,
   "id": "acddd4b0-d652-4ba6-b907-fc6a5ae7b97e",
   "metadata": {
    "tags": []
   },
   "outputs": [
    {
     "name": "stdout",
     "output_type": "stream",
     "text": [
      "\n",
      "System: 128 cores (no SMT), 2 sockets, 8 NUMA domains\n",
      "\n",
      "\u001b[0m\u001b[1m| \u001b[22m\u001b[39m0,\u001b[39m1,\u001b[39m2,\u001b[39m3,\u001b[39m4,\u001b[39m5,\u001b[39m6,\u001b[39m7,\u001b[39m8,\u001b[39m9,\u001b[39m10,\u001b[39m11,\u001b[39m12,\u001b[39m13,\u001b[39m14,\u001b[39m15,\n",
      "  \u001b[33m\u001b[1m16\u001b[22m\u001b[39m,\u001b[39m17,\u001b[39m18,\u001b[39m19,\u001b[39m20,\u001b[39m21,\u001b[39m22,\u001b[39m23,\u001b[39m24,\u001b[39m25,\u001b[39m26,\u001b[33m\u001b[1m27\u001b[22m\u001b[39m,\u001b[39m28,\u001b[39m29,\u001b[39m30,\u001b[39m31,\n",
      "  \u001b[39m32,\u001b[39m33,\u001b[33m\u001b[1m34\u001b[22m\u001b[39m,\u001b[39m35,\u001b[39m36,\u001b[39m37,\u001b[39m38,\u001b[39m39,\u001b[33m\u001b[1m40\u001b[22m\u001b[39m,\u001b[39m41,\u001b[39m42,\u001b[39m43,\u001b[39m44,\u001b[39m45,\u001b[39m46,\u001b[39m47,\n",
      "  \u001b[33m\u001b[1m48\u001b[22m\u001b[39m,\u001b[39m49,\u001b[39m50,\u001b[39m51,\u001b[39m52,\u001b[39m53,\u001b[39m54,\u001b[39m55,\u001b[39m56,\u001b[39m57,\u001b[33m\u001b[1m58\u001b[22m\u001b[39m,\u001b[39m59,\u001b[39m60,\u001b[39m61,\u001b[39m62,\u001b[39m63\u001b[0m\u001b[1m |\u001b[22m\n",
      "\u001b[0m\u001b[1m| \u001b[22m\u001b[39m64,\u001b[33m\u001b[1m65\u001b[22m\u001b[39m,\u001b[39m66,\u001b[39m67,\u001b[39m68,\u001b[39m69,\u001b[39m70,\u001b[39m71,\u001b[33m\u001b[1m72\u001b[22m\u001b[39m,\u001b[39m73,\u001b[39m74,\u001b[39m75,\u001b[39m76,\u001b[39m77,\u001b[39m78,\u001b[39m79,\n",
      "  \u001b[39m80,\u001b[39m81,\u001b[39m82,\u001b[39m83,\u001b[39m84,\u001b[39m85,\u001b[39m86,\u001b[39m87,\u001b[39m88,\u001b[39m89,\u001b[39m90,\u001b[39m91,\u001b[39m92,\u001b[39m93,\u001b[39m94,\u001b[39m95,\n",
      "  \u001b[39m96,\u001b[39m97,\u001b[39m98,\u001b[39m99,\u001b[39m100,\u001b[39m101,\u001b[39m102,\u001b[39m103,\u001b[39m104,\u001b[39m105,\u001b[39m106,\u001b[39m107,\u001b[39m108,\u001b[39m109,\u001b[39m110,\u001b[39m111,\n",
      "  \u001b[39m112,\u001b[39m113,\u001b[39m114,\u001b[39m115,\u001b[39m116,\u001b[39m117,\u001b[39m118,\u001b[39m119,\u001b[39m120,\u001b[39m121,\u001b[39m122,\u001b[39m123,\u001b[39m124,\u001b[39m125,\u001b[39m126,\u001b[39m127\u001b[0m\u001b[1m |\u001b[22m\n",
      "\n",
      "\u001b[33m\u001b[1m#\u001b[22m\u001b[39m = Julia thread, \u001b[0m\u001b[1m|\u001b[22m = Socket seperator\n",
      "\n",
      "Julia threads: \u001b[32m8\u001b[39m\n",
      "├ Occupied CPU-threads: \u001b[32m8\u001b[39m\n",
      "└ Mapping (Thread => CPUID): 1 => 27, 2 => 48, 3 => 34, 4 => 16, 5 => 58, ...\n"
     ]
    }
   ],
   "source": [
    "threadinfo()"
   ]
  },
  {
   "cell_type": "code",
   "execution_count": 11,
   "id": "3ee7b27b-d7b5-4585-b669-6e08c8251f15",
   "metadata": {
    "tags": []
   },
   "outputs": [],
   "source": [
    "pinthreads(:cores)"
   ]
  },
  {
   "cell_type": "code",
   "execution_count": 12,
   "id": "4cba5ff7-18d8-4f89-af2c-e7051fb47869",
   "metadata": {
    "tags": []
   },
   "outputs": [
    {
     "name": "stdout",
     "output_type": "stream",
     "text": [
      "\n",
      "System: 128 cores (no SMT), 2 sockets, 8 NUMA domains\n",
      "\n",
      "\u001b[0m\u001b[1m| \u001b[22m\u001b[33m\u001b[1m0\u001b[22m\u001b[39m,\u001b[33m\u001b[1m1\u001b[22m\u001b[39m,\u001b[33m\u001b[1m2\u001b[22m\u001b[39m,\u001b[33m\u001b[1m3\u001b[22m\u001b[39m,\u001b[33m\u001b[1m4\u001b[22m\u001b[39m,\u001b[33m\u001b[1m5\u001b[22m\u001b[39m,\u001b[33m\u001b[1m6\u001b[22m\u001b[39m,\u001b[33m\u001b[1m7\u001b[22m\u001b[39m,\u001b[39m8,\u001b[39m9,\u001b[39m10,\u001b[39m11,\u001b[39m12,\u001b[39m13,\u001b[39m14,\u001b[39m15,\n",
      "  \u001b[39m16,\u001b[39m17,\u001b[39m18,\u001b[39m19,\u001b[39m20,\u001b[39m21,\u001b[39m22,\u001b[39m23,\u001b[39m24,\u001b[39m25,\u001b[39m26,\u001b[39m27,\u001b[39m28,\u001b[39m29,\u001b[39m30,\u001b[39m31,\n",
      "  \u001b[39m32,\u001b[39m33,\u001b[39m34,\u001b[39m35,\u001b[39m36,\u001b[39m37,\u001b[39m38,\u001b[39m39,\u001b[39m40,\u001b[39m41,\u001b[39m42,\u001b[39m43,\u001b[39m44,\u001b[39m45,\u001b[39m46,\u001b[39m47,\n",
      "  \u001b[39m48,\u001b[39m49,\u001b[39m50,\u001b[39m51,\u001b[39m52,\u001b[39m53,\u001b[39m54,\u001b[39m55,\u001b[39m56,\u001b[39m57,\u001b[39m58,\u001b[39m59,\u001b[39m60,\u001b[39m61,\u001b[39m62,\u001b[39m63\u001b[0m\u001b[1m |\u001b[22m\n",
      "\u001b[0m\u001b[1m| \u001b[22m\u001b[39m64,\u001b[39m65,\u001b[39m66,\u001b[39m67,\u001b[39m68,\u001b[39m69,\u001b[39m70,\u001b[39m71,\u001b[39m72,\u001b[39m73,\u001b[39m74,\u001b[39m75,\u001b[39m76,\u001b[39m77,\u001b[39m78,\u001b[39m79,\n",
      "  \u001b[39m80,\u001b[39m81,\u001b[39m82,\u001b[39m83,\u001b[39m84,\u001b[39m85,\u001b[39m86,\u001b[39m87,\u001b[39m88,\u001b[39m89,\u001b[39m90,\u001b[39m91,\u001b[39m92,\u001b[39m93,\u001b[39m94,\u001b[39m95,\n",
      "  \u001b[39m96,\u001b[39m97,\u001b[39m98,\u001b[39m99,\u001b[39m100,\u001b[39m101,\u001b[39m102,\u001b[39m103,\u001b[39m104,\u001b[39m105,\u001b[39m106,\u001b[39m107,\u001b[39m108,\u001b[39m109,\u001b[39m110,\u001b[39m111,\n",
      "  \u001b[39m112,\u001b[39m113,\u001b[39m114,\u001b[39m115,\u001b[39m116,\u001b[39m117,\u001b[39m118,\u001b[39m119,\u001b[39m120,\u001b[39m121,\u001b[39m122,\u001b[39m123,\u001b[39m124,\u001b[39m125,\u001b[39m126,\u001b[39m127\u001b[0m\u001b[1m |\u001b[22m\n",
      "\n",
      "\u001b[33m\u001b[1m#\u001b[22m\u001b[39m = Julia thread, \u001b[0m\u001b[1m|\u001b[22m = Socket seperator\n",
      "\n",
      "Julia threads: \u001b[32m8\u001b[39m\n",
      "├ Occupied CPU-threads: \u001b[32m8\u001b[39m\n",
      "└ Mapping (Thread => CPUID): 1 => 0, 2 => 1, 3 => 2, 4 => 3, 5 => 4, ...\n"
     ]
    }
   ],
   "source": [
    "threadinfo()"
   ]
  },
  {
   "cell_type": "code",
   "execution_count": 13,
   "id": "25b369b4-a623-4366-a30c-495bdbc02483",
   "metadata": {
    "tags": []
   },
   "outputs": [],
   "source": [
    "pinthreads(:sockets)"
   ]
  },
  {
   "cell_type": "code",
   "execution_count": 14,
   "id": "4d6e6949-9b3a-4f1e-8ce1-091c665c8046",
   "metadata": {
    "tags": []
   },
   "outputs": [
    {
     "name": "stdout",
     "output_type": "stream",
     "text": [
      "\n",
      "System: 128 cores (no SMT), 2 sockets, 8 NUMA domains\n",
      "\n",
      "\u001b[0m\u001b[1m| \u001b[22m\u001b[33m\u001b[1m0\u001b[22m\u001b[39m,\u001b[33m\u001b[1m1\u001b[22m\u001b[39m,\u001b[33m\u001b[1m2\u001b[22m\u001b[39m,\u001b[33m\u001b[1m3\u001b[22m\u001b[39m,\u001b[39m4,\u001b[39m5,\u001b[39m6,\u001b[39m7,\u001b[39m8,\u001b[39m9,\u001b[39m10,\u001b[39m11,\u001b[39m12,\u001b[39m13,\u001b[39m14,\u001b[39m15,\n",
      "  \u001b[39m16,\u001b[39m17,\u001b[39m18,\u001b[39m19,\u001b[39m20,\u001b[39m21,\u001b[39m22,\u001b[39m23,\u001b[39m24,\u001b[39m25,\u001b[39m26,\u001b[39m27,\u001b[39m28,\u001b[39m29,\u001b[39m30,\u001b[39m31,\n",
      "  \u001b[39m32,\u001b[39m33,\u001b[39m34,\u001b[39m35,\u001b[39m36,\u001b[39m37,\u001b[39m38,\u001b[39m39,\u001b[39m40,\u001b[39m41,\u001b[39m42,\u001b[39m43,\u001b[39m44,\u001b[39m45,\u001b[39m46,\u001b[39m47,\n",
      "  \u001b[39m48,\u001b[39m49,\u001b[39m50,\u001b[39m51,\u001b[39m52,\u001b[39m53,\u001b[39m54,\u001b[39m55,\u001b[39m56,\u001b[39m57,\u001b[39m58,\u001b[39m59,\u001b[39m60,\u001b[39m61,\u001b[39m62,\u001b[39m63\u001b[0m\u001b[1m |\u001b[22m\n",
      "\u001b[0m\u001b[1m| \u001b[22m\u001b[33m\u001b[1m64\u001b[22m\u001b[39m,\u001b[33m\u001b[1m65\u001b[22m\u001b[39m,\u001b[33m\u001b[1m66\u001b[22m\u001b[39m,\u001b[33m\u001b[1m67\u001b[22m\u001b[39m,\u001b[39m68,\u001b[39m69,\u001b[39m70,\u001b[39m71,\u001b[39m72,\u001b[39m73,\u001b[39m74,\u001b[39m75,\u001b[39m76,\u001b[39m77,\u001b[39m78,\u001b[39m79,\n",
      "  \u001b[39m80,\u001b[39m81,\u001b[39m82,\u001b[39m83,\u001b[39m84,\u001b[39m85,\u001b[39m86,\u001b[39m87,\u001b[39m88,\u001b[39m89,\u001b[39m90,\u001b[39m91,\u001b[39m92,\u001b[39m93,\u001b[39m94,\u001b[39m95,\n",
      "  \u001b[39m96,\u001b[39m97,\u001b[39m98,\u001b[39m99,\u001b[39m100,\u001b[39m101,\u001b[39m102,\u001b[39m103,\u001b[39m104,\u001b[39m105,\u001b[39m106,\u001b[39m107,\u001b[39m108,\u001b[39m109,\u001b[39m110,\u001b[39m111,\n",
      "  \u001b[39m112,\u001b[39m113,\u001b[39m114,\u001b[39m115,\u001b[39m116,\u001b[39m117,\u001b[39m118,\u001b[39m119,\u001b[39m120,\u001b[39m121,\u001b[39m122,\u001b[39m123,\u001b[39m124,\u001b[39m125,\u001b[39m126,\u001b[39m127\u001b[0m\u001b[1m |\u001b[22m\n",
      "\n",
      "\u001b[33m\u001b[1m#\u001b[22m\u001b[39m = Julia thread, \u001b[0m\u001b[1m|\u001b[22m = Socket seperator\n",
      "\n",
      "Julia threads: \u001b[32m8\u001b[39m\n",
      "├ Occupied CPU-threads: \u001b[32m8\u001b[39m\n",
      "└ Mapping (Thread => CPUID): 1 => 0, 2 => 64, 3 => 1, 4 => 65, 5 => 2, ...\n"
     ]
    }
   ],
   "source": [
    "threadinfo()"
   ]
  },
  {
   "cell_type": "markdown",
   "id": "5056ff7a-0847-4935-a2e8-48aac58e9041",
   "metadata": {
    "tags": []
   },
   "source": [
    "#### Benchmark with pinned threads"
   ]
  },
  {
   "cell_type": "code",
   "execution_count": 15,
   "id": "086c5f71-3533-4c2a-b9ad-1be6062c613c",
   "metadata": {
    "tags": []
   },
   "outputs": [
    {
     "name": "stdout",
     "output_type": "stream",
     "text": [
      "Dtype: Float64\n",
      "\tMemory Bandwidth (GB/s): 38.13\n",
      "\tCompute (GFLOP/s): 3.18\n"
     ]
    }
   ],
   "source": [
    "pinthreads(:cores)\n",
    "measure_perf(axpy_multithreading_dynamic!);"
   ]
  },
  {
   "cell_type": "markdown",
   "id": "c37a9a5c-f254-4bf2-88ee-98b74c9f0843",
   "metadata": {
    "tags": []
   },
   "source": [
    "**Still the same performance?!** 😢"
   ]
  },
  {
   "cell_type": "markdown",
   "id": "9cb5f3e8-a8e1-4826-a5a4-2b2e3d97d8ef",
   "metadata": {
    "tags": []
   },
   "source": [
    "### Data placement (NUMA)"
   ]
  },
  {
   "cell_type": "markdown",
   "id": "b4051db7-86fa-466a-b7c0-bf970dc7d3d6",
   "metadata": {},
   "source": [
    "NUMA = **n**on-**u**niform **m**emory **a**ccess"
   ]
  },
  {
   "cell_type": "markdown",
   "id": "beb62f86-bd7c-4857-b68c-9f4b2e0fc3fd",
   "metadata": {
    "tags": []
   },
   "source": [
    "One (of two) AMD Milan CPUs in Noctua 2:\n",
    "\n",
    "<img src=\"../imgs/amd_milan_cpu_die.svg\" width=800>\n",
    "\n",
    "**Image source:** AMD, [High Performance Computing (HPC) Tuning Guide for AMD EPYCTM 7003 Series Processors](https://www.amd.com/system/files/documents/high-performance-computing-tuning-guide-amd-epyc7003-series-processors.pdf)"
   ]
  },
  {
   "cell_type": "markdown",
   "id": "a571f3cc-0b4d-40cf-8219-0e2e5ec2c9ec",
   "metadata": {},
   "source": [
    "<img src=\"../imgs/noctua2_topo.svg\" width=1000>"
   ]
  },
  {
   "cell_type": "code",
   "execution_count": 16,
   "id": "f4be4f12-d6b7-486a-89e7-e7c79119c3a9",
   "metadata": {
    "tags": []
   },
   "outputs": [
    {
     "name": "stdout",
     "output_type": "stream",
     "text": [
      "\n",
      "System: 128 cores (no SMT), 2 sockets, 8 NUMA domains\n",
      "\n",
      "\u001b[0m\u001b[1m| \u001b[22m\u001b[33m\u001b[1m0\u001b[22m\u001b[39m,\u001b[33m\u001b[1m1\u001b[22m\u001b[39m,\u001b[33m\u001b[1m2\u001b[22m\u001b[39m,\u001b[33m\u001b[1m3\u001b[22m\u001b[39m,\u001b[33m\u001b[1m4\u001b[22m\u001b[39m,\u001b[33m\u001b[1m5\u001b[22m\u001b[39m,\u001b[33m\u001b[1m6\u001b[22m\u001b[39m,\u001b[33m\u001b[1m7\u001b[22m\u001b[39m,\u001b[39m8,\u001b[39m9,\u001b[39m10,\u001b[39m11,\u001b[39m12,\u001b[39m13,\u001b[39m14,\u001b[39m15\u001b[0m\u001b[1m |\u001b[22m\n",
      "\u001b[0m\u001b[1m| \u001b[22m\u001b[39m16,\u001b[39m17,\u001b[39m18,\u001b[39m19,\u001b[39m20,\u001b[39m21,\u001b[39m22,\u001b[39m23,\u001b[39m24,\u001b[39m25,\u001b[39m26,\u001b[39m27,\u001b[39m28,\u001b[39m29,\u001b[39m30,\u001b[39m31\u001b[0m\u001b[1m |\u001b[22m\n",
      "\u001b[0m\u001b[1m| \u001b[22m\u001b[39m32,\u001b[39m33,\u001b[39m34,\u001b[39m35,\u001b[39m36,\u001b[39m37,\u001b[39m38,\u001b[39m39,\u001b[39m40,\u001b[39m41,\u001b[39m42,\u001b[39m43,\u001b[39m44,\u001b[39m45,\u001b[39m46,\u001b[39m47\u001b[0m\u001b[1m |\u001b[22m\n",
      "\u001b[0m\u001b[1m| \u001b[22m\u001b[39m48,\u001b[39m49,\u001b[39m50,\u001b[39m51,\u001b[39m52,\u001b[39m53,\u001b[39m54,\u001b[39m55,\u001b[39m56,\u001b[39m57,\u001b[39m58,\u001b[39m59,\u001b[39m60,\u001b[39m61,\u001b[39m62,\u001b[39m63\u001b[0m\u001b[1m |\u001b[22m\n",
      "\u001b[0m\u001b[1m| \u001b[22m\u001b[39m64,\u001b[39m65,\u001b[39m66,\u001b[39m67,\u001b[39m68,\u001b[39m69,\u001b[39m70,\u001b[39m71,\u001b[39m72,\u001b[39m73,\u001b[39m74,\u001b[39m75,\u001b[39m76,\u001b[39m77,\u001b[39m78,\u001b[39m79\u001b[0m\u001b[1m |\u001b[22m\n",
      "\u001b[0m\u001b[1m| \u001b[22m\u001b[39m80,\u001b[39m81,\u001b[39m82,\u001b[39m83,\u001b[39m84,\u001b[39m85,\u001b[39m86,\u001b[39m87,\u001b[39m88,\u001b[39m89,\u001b[39m90,\u001b[39m91,\u001b[39m92,\u001b[39m93,\u001b[39m94,\u001b[39m95\u001b[0m\u001b[1m |\u001b[22m\n",
      "\u001b[0m\u001b[1m| \u001b[22m\u001b[39m96,\u001b[39m97,\u001b[39m98,\u001b[39m99,\u001b[39m100,\u001b[39m101,\u001b[39m102,\u001b[39m103,\u001b[39m104,\u001b[39m105,\u001b[39m106,\u001b[39m107,\u001b[39m108,\u001b[39m109,\u001b[39m110,\u001b[39m111\u001b[0m\u001b[1m |\u001b[22m\n",
      "\u001b[0m\u001b[1m| \u001b[22m\u001b[39m112,\u001b[39m113,\u001b[39m114,\u001b[39m115,\u001b[39m116,\u001b[39m117,\u001b[39m118,\u001b[39m119,\u001b[39m120,\u001b[39m121,\u001b[39m122,\u001b[39m123,\u001b[39m124,\u001b[39m125,\u001b[39m126,\u001b[39m127\u001b[0m\u001b[1m |\u001b[22m\n",
      "\n",
      "\u001b[33m\u001b[1m#\u001b[22m\u001b[39m = Julia thread, \u001b[0m\u001b[1m|\u001b[22m = NUMA seperator\n",
      "\n",
      "Julia threads: \u001b[32m8\u001b[39m\n",
      "├ Occupied CPU-threads: \u001b[32m8\u001b[39m\n",
      "└ Mapping (Thread => CPUID): 1 => 0, 2 => 1, 3 => 2, 4 => 3, 5 => 4, ...\n"
     ]
    }
   ],
   "source": [
    "threadinfo(; groupby=:numa) # switch from socket/CPU grouping to NUMA grouping"
   ]
  },
  {
   "cell_type": "markdown",
   "id": "9b0bbe48-2215-4cf5-918b-0bb85bf8e272",
   "metadata": {},
   "source": [
    "#### How to control data placement (explicitly)?\n",
    "→ [NUMA.jl](https://github.com/JuliaPerf/NUMA.jl)\n",
    "\n",
    "`Vector{Float64}(numanode(i), length)` (kind of similar to `Vector{Float64}(undef, length)`)"
   ]
  },
  {
   "cell_type": "code",
   "execution_count": 17,
   "id": "01947988-184e-4a60-8b28-f7416f6df898",
   "metadata": {
    "tags": []
   },
   "outputs": [],
   "source": [
    "using NUMA, Random"
   ]
  },
  {
   "cell_type": "code",
   "execution_count": 18,
   "id": "d2202143-08d1-4893-b01d-83809d27766f",
   "metadata": {
    "tags": []
   },
   "outputs": [],
   "source": [
    "data = Vector{Float64}(numanode(1), 100); rand!(data);"
   ]
  },
  {
   "cell_type": "code",
   "execution_count": 19,
   "id": "71420185-5321-406d-9326-2ce7a430bc48",
   "metadata": {
    "tags": []
   },
   "outputs": [
    {
     "data": {
      "text/plain": [
       "1"
      ]
     },
     "execution_count": 19,
     "metadata": {},
     "output_type": "execute_result"
    }
   ],
   "source": [
    "which_numa_node(data)"
   ]
  },
  {
   "cell_type": "code",
   "execution_count": 20,
   "id": "7c548c1e-9144-42cd-9c72-9377f682cb98",
   "metadata": {
    "tags": []
   },
   "outputs": [],
   "source": [
    "data = Vector{Float64}(numanode(8), 100); rand!(data);"
   ]
  },
  {
   "cell_type": "code",
   "execution_count": 21,
   "id": "6346e6a5-a839-466b-a7cf-c4c43f6fe1ee",
   "metadata": {
    "tags": []
   },
   "outputs": [
    {
     "data": {
      "text/plain": [
       "8"
      ]
     },
     "execution_count": 21,
     "metadata": {},
     "output_type": "execute_result"
    }
   ],
   "source": [
    "which_numa_node(data)"
   ]
  },
  {
   "cell_type": "markdown",
   "id": "8d53ca44-88cc-41c7-973a-77b809edb750",
   "metadata": {},
   "source": [
    "Let's do a quick and dirty benchmark to get an idea how much this matters for performance."
   ]
  },
  {
   "cell_type": "code",
   "execution_count": 22,
   "id": "b3966b39-24a6-43d4-9913-e57a20d00080",
   "metadata": {
    "tags": []
   },
   "outputs": [
    {
     "name": "stdout",
     "output_type": "stream",
     "text": [
      "local NUMA node\n",
      "  707.034 ms (0 allocations: 0 bytes)\n",
      "distant NUMA node\n",
      "  1.043 s (0 allocations: 0 bytes)\n"
     ]
    }
   ],
   "source": [
    "node1 = current_numa_node()\n",
    "node2 = mod1(current_numa_node() + nnumanodes()÷2, nnumanodes()) # numa node in other CPU/socket\n",
    "\n",
    "println(\"local NUMA node\")\n",
    "x = Vector{Float64}(numanode(node1), N); rand!(x)\n",
    "y = Vector{Float64}(numanode(node1), N); rand!(y)\n",
    "\n",
    "@btime axpy_serial!($y, $a, $x) samples=5 evals=3;\n",
    "\n",
    "println(\"distant NUMA node\")\n",
    "x = Vector{Float64}(numanode(node2), N); rand!(x)\n",
    "y = Vector{Float64}(numanode(node2), N); rand!(y)\n",
    "\n",
    "@btime axpy_serial!($y, $a, $x) samples=5 evals=3;"
   ]
  },
  {
   "cell_type": "markdown",
   "id": "d8b979ec-9350-4783-9f22-fc0bc82800a8",
   "metadata": {},
   "source": [
    "Note that the performance issue will be mouch more pronounced in multithreaded cases, where different threads might try to access the same non-local data over the same memory channel(s)."
   ]
  },
  {
   "cell_type": "markdown",
   "id": "e3d2a357-10ad-4503-8803-4d651beb3767",
   "metadata": {},
   "source": [
    "#### How to control data placement (implicitly)?\n",
    "\n",
    "→ **\"First-touch\" policy**\n",
    "\n",
    "```julia\n",
    "x = Vector{Float64}(undef, 10)   # allocation, no \"touch\" yet\n",
    "rand!(x)                         # first touch == first write\n",
    "```"
   ]
  },
  {
   "cell_type": "code",
   "execution_count": 23,
   "id": "d87d9677-0d97-44db-b693-c71b68201a01",
   "metadata": {
    "tags": []
   },
   "outputs": [
    {
     "name": "stdout",
     "output_type": "stream",
     "text": [
      "\n",
      "System: 128 cores (no SMT), 2 sockets, 8 NUMA domains\n",
      "\n",
      "\u001b[0m\u001b[1m| \u001b[22m\u001b[33m\u001b[1m0\u001b[22m\u001b[39m,\u001b[39m1,\u001b[39m2,\u001b[39m3,\u001b[39m4,\u001b[39m5,\u001b[39m6,\u001b[39m7,\u001b[39m8,\u001b[39m9,\u001b[39m10,\u001b[39m11,\u001b[39m12,\u001b[39m13,\u001b[39m14,\u001b[39m15\u001b[0m\u001b[1m |\u001b[22m\n",
      "\u001b[0m\u001b[1m| \u001b[22m\u001b[33m\u001b[1m16\u001b[22m\u001b[39m,\u001b[39m17,\u001b[39m18,\u001b[39m19,\u001b[39m20,\u001b[39m21,\u001b[39m22,\u001b[39m23,\u001b[39m24,\u001b[39m25,\u001b[39m26,\u001b[39m27,\u001b[39m28,\u001b[39m29,\u001b[39m30,\u001b[39m31\u001b[0m\u001b[1m |\u001b[22m\n",
      "\u001b[0m\u001b[1m| \u001b[22m\u001b[33m\u001b[1m32\u001b[22m\u001b[39m,\u001b[39m33,\u001b[39m34,\u001b[39m35,\u001b[39m36,\u001b[39m37,\u001b[39m38,\u001b[39m39,\u001b[39m40,\u001b[39m41,\u001b[39m42,\u001b[39m43,\u001b[39m44,\u001b[39m45,\u001b[39m46,\u001b[39m47\u001b[0m\u001b[1m |\u001b[22m\n",
      "\u001b[0m\u001b[1m| \u001b[22m\u001b[33m\u001b[1m48\u001b[22m\u001b[39m,\u001b[39m49,\u001b[39m50,\u001b[39m51,\u001b[39m52,\u001b[39m53,\u001b[39m54,\u001b[39m55,\u001b[39m56,\u001b[39m57,\u001b[39m58,\u001b[39m59,\u001b[39m60,\u001b[39m61,\u001b[39m62,\u001b[39m63\u001b[0m\u001b[1m |\u001b[22m\n",
      "\u001b[0m\u001b[1m| \u001b[22m\u001b[33m\u001b[1m64\u001b[22m\u001b[39m,\u001b[39m65,\u001b[39m66,\u001b[39m67,\u001b[39m68,\u001b[39m69,\u001b[39m70,\u001b[39m71,\u001b[39m72,\u001b[39m73,\u001b[39m74,\u001b[39m75,\u001b[39m76,\u001b[39m77,\u001b[39m78,\u001b[39m79\u001b[0m\u001b[1m |\u001b[22m\n",
      "\u001b[0m\u001b[1m| \u001b[22m\u001b[33m\u001b[1m80\u001b[22m\u001b[39m,\u001b[39m81,\u001b[39m82,\u001b[39m83,\u001b[39m84,\u001b[39m85,\u001b[39m86,\u001b[39m87,\u001b[39m88,\u001b[39m89,\u001b[39m90,\u001b[39m91,\u001b[39m92,\u001b[39m93,\u001b[39m94,\u001b[39m95\u001b[0m\u001b[1m |\u001b[22m\n",
      "\u001b[0m\u001b[1m| \u001b[22m\u001b[33m\u001b[1m96\u001b[22m\u001b[39m,\u001b[39m97,\u001b[39m98,\u001b[39m99,\u001b[39m100,\u001b[39m101,\u001b[39m102,\u001b[39m103,\u001b[39m104,\u001b[39m105,\u001b[39m106,\u001b[39m107,\u001b[39m108,\u001b[39m109,\u001b[39m110,\u001b[39m111\u001b[0m\u001b[1m |\u001b[22m\n",
      "\u001b[0m\u001b[1m| \u001b[22m\u001b[33m\u001b[1m112\u001b[22m\u001b[39m,\u001b[39m113,\u001b[39m114,\u001b[39m115,\u001b[39m116,\u001b[39m117,\u001b[39m118,\u001b[39m119,\u001b[39m120,\u001b[39m121,\u001b[39m122,\u001b[39m123,\u001b[39m124,\u001b[39m125,\u001b[39m126,\u001b[39m127\u001b[0m\u001b[1m |\u001b[22m\n",
      "\n",
      "\u001b[33m\u001b[1m#\u001b[22m\u001b[39m = Julia thread, \u001b[0m\u001b[1m|\u001b[22m = NUMA seperator\n",
      "\n",
      "Julia threads: \u001b[32m8\u001b[39m\n",
      "├ Occupied CPU-threads: \u001b[32m8\u001b[39m\n",
      "└ Mapping (Thread => CPUID): 1 => 0, 2 => 16, 3 => 32, 4 => 48, 5 => 64, ...\n"
     ]
    }
   ],
   "source": [
    "pinthreads(:numa)\n",
    "threadinfo(; groupby=:numa)"
   ]
  },
  {
   "cell_type": "code",
   "execution_count": 24,
   "id": "473431a9-014b-4c25-ba2c-f3df9bc481cf",
   "metadata": {
    "tags": []
   },
   "outputs": [
    {
     "name": "stdout",
     "output_type": "stream",
     "text": [
      "(tid, which_numa_node(x)) = (1, 1)\n",
      "(tid, which_numa_node(x)) = (2, 2)\n",
      "(tid, which_numa_node(x)) = (3, 3)\n",
      "(tid, which_numa_node(x)) = (4, 4)\n",
      "(tid, which_numa_node(x)) = (5, 5)\n",
      "(tid, which_numa_node(x)) = (6, 6)\n",
      "(tid, which_numa_node(x)) = (7, 7)\n",
      "(tid, which_numa_node(x)) = (8, 8)\n"
     ]
    }
   ],
   "source": [
    "for tid in 1:8\n",
    "    @sync @tspawnat tid begin            # ThreadPinning.@tspawnat creates *sticky* tasks that don't migrate between threads\n",
    "        x = Vector{Float64}(undef, 10)   # allocation, no \"touch\" yet\n",
    "        rand!(x)                         # first touch\n",
    "        @show tid, which_numa_node(x)\n",
    "    end\n",
    "end"
   ]
  },
  {
   "cell_type": "markdown",
   "id": "25c4344f-a0a8-49bc-8dec-f5c36bda7d5a",
   "metadata": {
    "tags": []
   },
   "source": [
    "##### NUMA-optimized AXPY"
   ]
  },
  {
   "cell_type": "markdown",
   "id": "ca12311c-7624-4a10-b6a9-7c0949bf8a08",
   "metadata": {},
   "source": [
    "**Question**\n",
    "* How can we modify our AXPY benchmark to optimize for local memory accesses (based on the first-touch policy)?"
   ]
  },
  {
   "cell_type": "code",
   "execution_count": 25,
   "id": "5adfaac5-3365-4686-b9de-002ed1107130",
   "metadata": {},
   "outputs": [
    {
     "data": {
      "text/plain": [
       "generate_input_data (generic function with 1 method)"
      ]
     },
     "execution_count": 25,
     "metadata": {},
     "output_type": "execute_result"
    }
   ],
   "source": [
    "using Random\n",
    "\n",
    "function generate_input_data(; N, dtype, parallel=false, kwargs...)\n",
    "    a = dtype(3.141)\n",
    "    x = Vector{dtype}(undef, N)\n",
    "    y = Vector{dtype}(undef, N)\n",
    "    if !parallel\n",
    "        rand!(x)\n",
    "        rand!(y)\n",
    "    else\n",
    "        #\n",
    "        # TODO: initialize x and y in parallel\n",
    "        #       (in the same way as we'll use it in the axpy kernel)\n",
    "        #\n",
    "        @threads for i in eachindex(x,y)\n",
    "            x[i] = rand(dtype)\n",
    "            y[i] = rand(dtype)\n",
    "        end\n",
    "    end\n",
    "    return a,x,y\n",
    "end"
   ]
  },
  {
   "cell_type": "code",
   "execution_count": 26,
   "id": "d6ff6e8b-78a9-4273-a159-f5bf0d040fba",
   "metadata": {
    "tags": []
   },
   "outputs": [
    {
     "name": "stdout",
     "output_type": "stream",
     "text": [
      "Dtype: Float64\n",
      "\tMemory Bandwidth (GB/s): 38.9\n",
      "\tCompute (GFLOP/s): 3.24\n",
      "Dtype: Float64\n",
      "\tMemory Bandwidth (GB/s): 156.51\n",
      "\tCompute (GFLOP/s): 13.04\n"
     ]
    }
   ],
   "source": [
    "pinthreads(:numa)\n",
    "measure_perf(axpy_multithreading_dynamic!; parallel=false);\n",
    "measure_perf(axpy_multithreading_dynamic!; parallel=true);"
   ]
  },
  {
   "cell_type": "markdown",
   "id": "fb1551b9-ab59-4211-952c-f7ed23e521cd",
   "metadata": {
    "tags": []
   },
   "source": [
    "**Speedup! Yeah!** 😄 🎉\n",
    "\n",
    "But.... less than expected!? 😕\n",
    "\n",
    "**Question**\n",
    "* What kind of speedup would we expect (ideally)?"
   ]
  },
  {
   "cell_type": "code",
   "execution_count": 27,
   "id": "8b8d7999-7bc7-4a4c-bf19-6ccdb7e5d792",
   "metadata": {
    "tags": []
   },
   "outputs": [
    {
     "name": "stdout",
     "output_type": "stream",
     "text": [
      "\n",
      "System: 128 cores (no SMT), 2 sockets, 8 NUMA domains\n",
      "\n",
      "\u001b[0m\u001b[1m| \u001b[22m\u001b[33m\u001b[1m0\u001b[22m\u001b[39m,\u001b[39m1,\u001b[39m2,\u001b[39m3,\u001b[39m4,\u001b[39m5,\u001b[39m6,\u001b[39m7,\u001b[39m8,\u001b[39m9,\u001b[39m10,\u001b[39m11,\u001b[39m12,\u001b[39m13,\u001b[39m14,\u001b[39m15\u001b[0m\u001b[1m |\u001b[22m\n",
      "\u001b[0m\u001b[1m| \u001b[22m\u001b[33m\u001b[1m16\u001b[22m\u001b[39m,\u001b[39m17,\u001b[39m18,\u001b[39m19,\u001b[39m20,\u001b[39m21,\u001b[39m22,\u001b[39m23,\u001b[39m24,\u001b[39m25,\u001b[39m26,\u001b[39m27,\u001b[39m28,\u001b[39m29,\u001b[39m30,\u001b[39m31\u001b[0m\u001b[1m |\u001b[22m\n",
      "\u001b[0m\u001b[1m| \u001b[22m\u001b[33m\u001b[1m32\u001b[22m\u001b[39m,\u001b[39m33,\u001b[39m34,\u001b[39m35,\u001b[39m36,\u001b[39m37,\u001b[39m38,\u001b[39m39,\u001b[39m40,\u001b[39m41,\u001b[39m42,\u001b[39m43,\u001b[39m44,\u001b[39m45,\u001b[39m46,\u001b[39m47\u001b[0m\u001b[1m |\u001b[22m\n",
      "\u001b[0m\u001b[1m| \u001b[22m\u001b[33m\u001b[1m48\u001b[22m\u001b[39m,\u001b[39m49,\u001b[39m50,\u001b[39m51,\u001b[39m52,\u001b[39m53,\u001b[39m54,\u001b[39m55,\u001b[39m56,\u001b[39m57,\u001b[39m58,\u001b[39m59,\u001b[39m60,\u001b[39m61,\u001b[39m62,\u001b[39m63\u001b[0m\u001b[1m |\u001b[22m\n",
      "\u001b[0m\u001b[1m| \u001b[22m\u001b[33m\u001b[1m64\u001b[22m\u001b[39m,\u001b[39m65,\u001b[39m66,\u001b[39m67,\u001b[39m68,\u001b[39m69,\u001b[39m70,\u001b[39m71,\u001b[39m72,\u001b[39m73,\u001b[39m74,\u001b[39m75,\u001b[39m76,\u001b[39m77,\u001b[39m78,\u001b[39m79\u001b[0m\u001b[1m |\u001b[22m\n",
      "\u001b[0m\u001b[1m| \u001b[22m\u001b[33m\u001b[1m80\u001b[22m\u001b[39m,\u001b[39m81,\u001b[39m82,\u001b[39m83,\u001b[39m84,\u001b[39m85,\u001b[39m86,\u001b[39m87,\u001b[39m88,\u001b[39m89,\u001b[39m90,\u001b[39m91,\u001b[39m92,\u001b[39m93,\u001b[39m94,\u001b[39m95\u001b[0m\u001b[1m |\u001b[22m\n",
      "\u001b[0m\u001b[1m| \u001b[22m\u001b[33m\u001b[1m96\u001b[22m\u001b[39m,\u001b[39m97,\u001b[39m98,\u001b[39m99,\u001b[39m100,\u001b[39m101,\u001b[39m102,\u001b[39m103,\u001b[39m104,\u001b[39m105,\u001b[39m106,\u001b[39m107,\u001b[39m108,\u001b[39m109,\u001b[39m110,\u001b[39m111\u001b[0m\u001b[1m |\u001b[22m\n",
      "\u001b[0m\u001b[1m| \u001b[22m\u001b[33m\u001b[1m112\u001b[22m\u001b[39m,\u001b[39m113,\u001b[39m114,\u001b[39m115,\u001b[39m116,\u001b[39m117,\u001b[39m118,\u001b[39m119,\u001b[39m120,\u001b[39m121,\u001b[39m122,\u001b[39m123,\u001b[39m124,\u001b[39m125,\u001b[39m126,\u001b[39m127\u001b[0m\u001b[1m |\u001b[22m\n",
      "\n",
      "\u001b[33m\u001b[1m#\u001b[22m\u001b[39m = Julia thread, \u001b[0m\u001b[1m|\u001b[22m = NUMA seperator\n",
      "\n",
      "Julia threads: \u001b[32m8\u001b[39m\n",
      "├ Occupied CPU-threads: \u001b[32m8\u001b[39m\n",
      "└ Mapping (Thread => CPUID): 1 => 0, 2 => 16, 3 => 32, 4 => 48, 5 => 64, ...\n"
     ]
    }
   ],
   "source": [
    "threadinfo(; groupby=:numa)"
   ]
  },
  {
   "cell_type": "markdown",
   "id": "3a617a62-41b4-40d1-80cd-450b343949d1",
   "metadata": {},
   "source": [
    "### Tasks vs Threads"
   ]
  },
  {
   "cell_type": "markdown",
   "id": "d9f8efdb-3410-4856-a782-f313e6d556e3",
   "metadata": {},
   "source": [
    "Conceptually, Julia implements **task-based multithreading**.\n",
    "\n",
    "**A user shouldn't care about threads but tasks!**"
   ]
  },
  {
   "cell_type": "markdown",
   "id": "4df01883-7563-4e5e-8fc5-ec23354f3624",
   "metadata": {
    "tags": []
   },
   "source": [
    "<img src=\"../imgs/julia_tasks_vs_threads.png\" width=1000>"
   ]
  },
  {
   "cell_type": "markdown",
   "id": "7e8ad1fb-7c0d-48a7-93b4-ec89e842bb13",
   "metadata": {},
   "source": [
    "In **\"traditional\" HPC**, we typically care about threads directly, i.e. we tell every thread what it should do.\n",
    "\n",
    "In Julia's **task-based multithreading**, a task - e.g. a computational piece of a code - is only marked for **parallel execution** (`@spawn`, `@threads`) on **any** of the available Julia threads. Julias **dynamic scheduler** will then take care of running the task on any of the threads (the task might even migrate!).\n",
    "\n",
    "*Advantages:*\n",
    "* high-level abstraction\n",
    "* **composability / nestability** (Multithreaded code can call multithreaded code can call multithreaded code ....)\n",
    "\n",
    "*Disadvantages:*\n",
    "* potential scheduling overhead\n",
    "* **task → thread assignment uncertain (can vary dynamically + task migration)**\n",
    "* can get in the way when performance engineering\n",
    "  * scheduler has limited information (e.g. about the system topology)\n",
    "  * low-level profiling (e.g. with LIKWID) requires fixed `task → thread → core` mapping."
   ]
  },
  {
   "cell_type": "markdown",
   "id": "01fd1b1d-7e55-43f0-b2d1-6a4b645a924a",
   "metadata": {},
   "source": [
    "#### Opt-out of dynamic scheduling"
   ]
  },
  {
   "cell_type": "markdown",
   "id": "faf790a5-cc2b-4c59-969a-79c317ea14d8",
   "metadata": {},
   "source": [
    "We can pt-out of Julia's dynamic scheduling and get **guarantees about the task-thread assignment** (and the iterations → task mapping).\n",
    "\n",
    "Syntax: `@threads :static for ...`\n",
    "\n",
    " * splits up the iteration space into `nthreads()` even, contiguous blocks (in-order) and creates precisely one task per block\n",
    " * **statically** maps tasks to threads, specifically: task 1 -> thread 1, task 2 -> thread 2, etc.\n",
    "   * no task migration, i.e. **fixed task-thread mapping** 👍\n",
    "   * only little overhead 👍\n",
    "   * not composable / nestable 👎\n",
    "     "
   ]
  },
  {
   "cell_type": "markdown",
   "id": "976e326d-a11a-4563-94a7-350ff860dc74",
   "metadata": {},
   "source": [
    "**In short:**\n",
    "\n",
    "Dynamic scheduling: `@spawn`, `@threads :dynamic` (default)\n",
    "\n",
    "Static scheduling (i.e. fixed task → thread mapping): `ThreadPinning.@tspawnat`, `@threads :static`"
   ]
  },
  {
   "cell_type": "markdown",
   "id": "9a891a2a-7ad0-4316-a382-4c64e1e27316",
   "metadata": {
    "tags": []
   },
   "source": [
    "#### Statically scheduled AXPY"
   ]
  },
  {
   "cell_type": "code",
   "execution_count": 28,
   "id": "ebe245af-82a0-43bc-9b05-535e20a41429",
   "metadata": {
    "tags": []
   },
   "outputs": [
    {
     "data": {
      "text/plain": [
       "axpy_multithreading_static! (generic function with 1 method)"
      ]
     },
     "execution_count": 28,
     "metadata": {},
     "output_type": "execute_result"
    }
   ],
   "source": [
    "function axpy_multithreading_static!(y, a, x)\n",
    "    #\n",
    "    # TODO: Implement a statically scheduled multithreaded AXPY kernel (with @threads :static).\n",
    "    #\n",
    "    @threads :static for i in eachindex(x,y)\n",
    "        @inbounds y[i] = a * x[i] + y[i]\n",
    "    end\n",
    "    return nothing\n",
    "end"
   ]
  },
  {
   "cell_type": "markdown",
   "id": "5abe53c6-62d9-499a-8b49-357b7b6b151b",
   "metadata": {},
   "source": [
    "We also need to adapt the input data generation."
   ]
  },
  {
   "cell_type": "code",
   "execution_count": 29,
   "id": "f0b19b64-47bf-4085-b379-0f1dbef68f88",
   "metadata": {
    "tags": []
   },
   "outputs": [
    {
     "data": {
      "text/plain": [
       "generate_input_data (generic function with 1 method)"
      ]
     },
     "execution_count": 29,
     "metadata": {},
     "output_type": "execute_result"
    }
   ],
   "source": [
    "function generate_input_data(; N, dtype, parallel=false, static=false, kwargs...)\n",
    "    a = dtype(3.141)\n",
    "    x = Vector{dtype}(undef, N)\n",
    "    y = Vector{dtype}(undef, N)\n",
    "    if !parallel\n",
    "        rand!(x)\n",
    "        rand!(y)\n",
    "    else\n",
    "        if !static\n",
    "            @threads for i in eachindex(x,y)\n",
    "                x[i] = rand()\n",
    "                y[i] = rand()\n",
    "            end\n",
    "        else\n",
    "            @threads :static for i in eachindex(x,y)\n",
    "                x[i] = rand()\n",
    "                y[i] = rand()\n",
    "            end\n",
    "        end\n",
    "    end\n",
    "    return a,x,y\n",
    "end"
   ]
  },
  {
   "cell_type": "code",
   "execution_count": 33,
   "id": "12d40c74-582e-402d-a8c5-aef368eda4cb",
   "metadata": {
    "tags": []
   },
   "outputs": [
    {
     "name": "stdout",
     "output_type": "stream",
     "text": [
      "Dtype: Float64\n",
      "\tMemory Bandwidth (GB/s): 38.79\n",
      "\tCompute (GFLOP/s): 3.23\n",
      "Dtype: Float64\n",
      "\tMemory Bandwidth (GB/s): 299.69\n",
      "\tCompute (GFLOP/s): 24.97\n"
     ]
    }
   ],
   "source": [
    "pinthreads(:numa)\n",
    "measure_perf(axpy_multithreading_static!; parallel=false, static=true);\n",
    "measure_perf(axpy_multithreading_static!; parallel=true, static=true);"
   ]
  },
  {
   "cell_type": "markdown",
   "id": "a83fddac-da2b-4406-b3e2-fa6edd11fd37",
   "metadata": {
    "tags": []
   },
   "source": [
    "**Finally, we're in the ballpark of the expected speedup!** 😄 🎉"
   ]
  }
 ],
 "metadata": {
  "kernelspec": {
   "display_name": "Julia (8 threads) 1.9.3",
   "language": "julia",
   "name": "julia-_8-threads_-1.9"
  },
  "language_info": {
   "file_extension": ".jl",
   "mimetype": "application/julia",
   "name": "julia",
   "version": "1.9.3"
  }
 },
 "nbformat": 4,
 "nbformat_minor": 5
}
